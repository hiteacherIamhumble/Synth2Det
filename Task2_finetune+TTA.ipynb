{
 "cells": [
  {
   "cell_type": "markdown",
   "id": "b8a84e3f",
   "metadata": {},
   "source": [
    "# YOLOv11 Fine-tuning for Snow Domain Adaptation\n",
    "\n",
    "This notebook demonstrates a systematic approach to fine-tuning YOLOv11 for improved performance in snowy environments. We'll implement advanced strategies using synthetic snow images generated via CycleGAN and evaluate their effectiveness compared to baseline approaches.\n",
    "\n",
    "## 1. Setup and Configuration\n",
    "\n",
    "First, we'll install the required dependencies and set up our environment. This includes importing libraries, configuring Ultralytics Hub authentication, and defining our dataset paths."
   ]
  },
  {
   "cell_type": "code",
   "execution_count": 1,
   "id": "8090367b",
   "metadata": {},
   "outputs": [
    {
     "name": "stdout",
     "output_type": "stream",
     "text": [
      "\u001b[34m\u001b[1mUltralytics HUB: \u001b[0mNew authentication successful ✅\n"
     ]
    }
   ],
   "source": [
    "import os\n",
    "import yaml\n",
    "import numpy as np\n",
    "import pandas as pd\n",
    "import matplotlib.pyplot as plt\n",
    "import seaborn as sns\n",
    "import random\n",
    "from ultralytics import YOLO\n",
    "from ultralytics.engine.results import Results\n",
    "from ultralytics.utils.metrics import ConfusionMatrix\n",
    "\n",
    "# Configure Jupyter to display plots inline\n",
    "%matplotlib inline\n",
    "\n",
    "# Configure Ultralytics Hub Authentication\n",
    "from ultralytics import hub\n",
    "\n",
    "# Set your API key for logging to Ultralytics Hub\n",
    "HUB_API_KEY = \"bb07ea0316e485d8a783a95d4ea9933727368bb13b\"  # Replace with your API key\n",
    "hub.login(HUB_API_KEY)\n",
    "\n",
    "# Set default figure size for better visualization\n",
    "plt.rcParams['figure.figsize'] = [12, 10]\n",
    "plt.rcParams['figure.dpi'] = 100"
   ]
  },
  {
   "cell_type": "markdown",
   "id": "eccb666b",
   "metadata": {},
   "source": [
    "### Dataset Configuration\n",
    "\n",
    "We'll work with three types of datasets:\n",
    "1. Original clear-weather images\n",
    "2. Synthetic snow images generated via CycleGAN\n",
    "3. Real snow images for validation"
   ]
  },
  {
   "cell_type": "code",
   "execution_count": 2,
   "id": "f380975b",
   "metadata": {},
   "outputs": [
    {
     "name": "stdout",
     "output_type": "stream",
     "text": [
      "Dataset: original\n",
      "  Classes: 8\n",
      "  Classes list: ['person', 'rider', 'car', 'truck', 'bus', 'train', 'motorcycle', 'bicycle']\n",
      "  Train path: ./task2_datasets/YOLO_original/images/train\n",
      "  Val path: ./task2_datasets/YOLO_original/images/val\n",
      "---\n",
      "Dataset: generated_snow\n",
      "  Classes: 8\n",
      "  Classes list: ['person', 'rider', 'car', 'truck', 'bus', 'train', 'motorcycle', 'bicycle']\n",
      "  Train path: ./task2_datasets/YOLO_generated/images/train\n",
      "  Val path: ./task2_datasets/YOLO_generated/images/val\n",
      "---\n",
      "Dataset: real_snow\n",
      "  Classes: 8\n",
      "  Classes list: ['person', 'rider', 'car', 'truck', 'bus', 'train', 'motorcycle', 'bicycle']\n",
      "  Train path: ./task2_datasets/YOLO_original_snow/images/train\n",
      "  Val path: ./task2_datasets/YOLO_original_snow/images/val\n",
      "---\n"
     ]
    }
   ],
   "source": [
    "# Paths to datasets\n",
    "DATASETS = {\n",
    "    \"original\": \"./task2_datasets/YOLO_original\",\n",
    "    \"generated_snow\": \"./task2_datasets/YOLO_generated\",\n",
    "    \"real_snow\": \"./task2_datasets/YOLO_original_snow\"\n",
    "}\n",
    "\n",
    "# Load data.yaml files\n",
    "def load_yaml(path):\n",
    "    yaml_path = os.path.join(path, \"data.yaml\")\n",
    "    with open(yaml_path, 'r') as file:\n",
    "        return yaml.safe_load(file)\n",
    "\n",
    "# Load data configurations\n",
    "data_configs = {k: load_yaml(v) for k, v in DATASETS.items()}\n",
    "\n",
    "# Display dataset information\n",
    "for name, config in data_configs.items():\n",
    "    print(f\"Dataset: {name}\")\n",
    "    print(f\"  Classes: {len(config['names'])}\")\n",
    "    print(f\"  Classes list: {config['names']}\")\n",
    "    print(f\"  Train path: {os.path.join(config['path'], config['train'])}\")\n",
    "    print(f\"  Val path: {os.path.join(config['path'], config['val'])}\")\n",
    "    print(\"---\")"
   ]
  },
  {
   "cell_type": "markdown",
   "id": "29f1d61f",
   "metadata": {},
   "source": [
    "## 2. Helper Functions for Evaluation and Visualization\n",
    "\n",
    "We need several helper functions to evaluate our models, extract performance metrics, and visualize the results. These functions are designed to work with the latest Ultralytics API."
   ]
  },
  {
   "cell_type": "code",
   "execution_count": 3,
   "id": "92ed0df1",
   "metadata": {},
   "outputs": [],
   "source": [
    "def evaluate_model(model, data_yaml_path, project_name):\n",
    "    \"\"\"Run validation on a model and return metrics.\"\"\"\n",
    "    results = model.val(\n",
    "        data=data_yaml_path, \n",
    "        project=project_name,\n",
    "        name=\"validation\",\n",
    "        plots=True,\n",
    "        save_json=True,\n",
    "        imgsz=[1920, 1080],  # Using original image size to preserve details\n",
    "        conf=0.25\n",
    "    )\n",
    "    \n",
    "    # In newer versions, we might need to extract the Results object\n",
    "    if hasattr(results, 'box'):\n",
    "        return results\n",
    "    elif hasattr(results, 'metrics'):\n",
    "        return results.metrics\n",
    "    else:\n",
    "        print(\"Warning: Results format has changed. Please check the documentation.\")\n",
    "        return results\n",
    "\n",
    "def plot_confusion_matrix(results, class_names, title):\n",
    "    \"\"\"Plot confusion matrix from validation results, showing only the specified classes.\"\"\"\n",
    "    # Check if we have confusion matrix in results\n",
    "    if hasattr(results, 'confusion_matrix'):\n",
    "        confusion_matrix = results.confusion_matrix\n",
    "    else:\n",
    "        print(f\"Warning: No confusion matrix found in results for {title}\")\n",
    "        return\n",
    "    \n",
    "    # Extract matrix data\n",
    "    if hasattr(confusion_matrix, 'matrix'):\n",
    "        cm = confusion_matrix.matrix\n",
    "    else:\n",
    "        print(f\"Warning: Confusion matrix format not recognized for {title}\")\n",
    "        return\n",
    "    \n",
    "    # Filter matrix to include only the relevant classes (exclude background/other classes)\n",
    "    num_classes = len(class_names)\n",
    "    # Take only the first num_classes rows and columns (excluding background class if present)\n",
    "    cm_filtered = cm[:num_classes, :num_classes]\n",
    "    \n",
    "    # Normalize confusion matrix\n",
    "    cm_normalized = cm_filtered / (cm_filtered.sum(axis=1, keepdims=True) + 1e-6)\n",
    "    \n",
    "    # Create figure and display the plot\n",
    "    plt.figure(figsize=(12, 10))\n",
    "    sns.heatmap(cm_normalized, annot=True, fmt='.2f', cmap='Blues',\n",
    "                xticklabels=class_names, yticklabels=class_names)\n",
    "    plt.xlabel('Predicted')\n",
    "    plt.ylabel('True')\n",
    "    plt.title(f'Confusion Matrix - {title}')\n",
    "    plt.tight_layout()\n",
    "    plt.show()  # This ensures the plot is displayed in the notebook\n",
    "    \n",
    "def extract_metrics(results):\n",
    "    \"\"\"Extract key metrics from validation results.\"\"\"\n",
    "    metrics = {\n",
    "        'mAP50': results.box.map50,\n",
    "        'mAP50-95': results.box.map,\n",
    "        'Precision': results.box.mp,\n",
    "        'Recall': results.box.mr,\n",
    "    }\n",
    "    \n",
    "    # These loss values aren't directly accessible in the Metric object\n",
    "    # We'll need to get them from the results.results dictionary if available\n",
    "    if hasattr(results, 'results') and isinstance(results.results, dict):\n",
    "        if 'box_loss' in results.results:\n",
    "            metrics['Box Loss'] = results.results.get('box_loss')\n",
    "        if 'cls_loss' in results.results:\n",
    "            metrics['Class Loss'] = results.results.get('cls_loss')\n",
    "        if 'dfl_loss' in results.results:\n",
    "            metrics['DFL Loss'] = results.results.get('dfl_loss')\n",
    "        elif 'obj_loss' in results.results:\n",
    "            metrics['Object Loss'] = results.results.get('obj_loss')\n",
    "    \n",
    "    return metrics\n",
    "\n",
    "def collect_metrics_by_class(results, class_names):\n",
    "    \"\"\"Extract per-class metrics from validation results.\"\"\"\n",
    "    per_class_metrics = []\n",
    "    \n",
    "    # Get metrics by class\n",
    "    for i, class_name in enumerate(class_names):\n",
    "        # Get AP50 and AP values for this class\n",
    "        ap50_values = results.box.ap50\n",
    "        ap_values = results.box.ap\n",
    "        \n",
    "        # Get precision and recall values for this class\n",
    "        p_values = results.box.p\n",
    "        r_values = results.box.r\n",
    "        \n",
    "        # Check if we have valid values for this class index\n",
    "        metrics = {\n",
    "            'Class': class_name,\n",
    "        }\n",
    "        \n",
    "        if i < len(ap50_values):\n",
    "            metrics['AP50'] = ap50_values[i]\n",
    "        else:\n",
    "            metrics['AP50'] = None\n",
    "            \n",
    "        if i < len(ap_values):\n",
    "            metrics['AP'] = ap_values[i]\n",
    "        else:\n",
    "            metrics['AP'] = None\n",
    "            \n",
    "        if i < len(p_values):\n",
    "            metrics['Precision'] = p_values[i]\n",
    "        else:\n",
    "            metrics['Precision'] = None\n",
    "            \n",
    "        if i < len(r_values):\n",
    "            metrics['Recall'] = r_values[i]\n",
    "        else:\n",
    "            metrics['Recall'] = None\n",
    "        \n",
    "        per_class_metrics.append(metrics)\n",
    "    \n",
    "    return pd.DataFrame(per_class_metrics)"
   ]
  },
  {
   "cell_type": "markdown",
   "id": "ccf490c4",
   "metadata": {},
   "source": [
    "## 3. Baseline Evaluation at Original Resolution\n",
    "\n",
    "Before implementing our fine-tuning strategies, we need to establish a baseline to understand the default performance of the pre-trained YOLOv11 model on snow images. To ensure a fair comparison, we'll evaluate the baseline model at the original resolution (1920×1080) to capture all available details in the images. This approach will help us quantify the impact of our adaptation methods more accurately."
   ]
  },
  {
   "cell_type": "code",
   "execution_count": 4,
   "id": "416a6a51",
   "metadata": {},
   "outputs": [
    {
     "name": "stdout",
     "output_type": "stream",
     "text": [
      "Evaluating baseline pre-trained YOLOv11 on snow dataset...\n",
      "WARNING ⚠️ updating to 'imgsz=1920'. 'train' and 'val' imgsz must be an integer, while 'predict' and 'export' imgsz may be a [h, w] list or an integer, i.e. 'yolo export imgsz=640,480' or 'yolo export imgsz=640'\n",
      "Ultralytics 8.3.129 🚀 Python-3.10.16 torch-2.7.0+cu126 CUDA:0 (NVIDIA GeForce RTX 4090, 24217MiB)\n",
      "YOLO11m summary (fused): 125 layers, 20,091,712 parameters, 0 gradients, 68.0 GFLOPs\n",
      "\u001b[34m\u001b[1mval: \u001b[0mFast image access ✅ (ping: 0.0±0.0 ms, read: 3170.1±2752.7 MB/s, size: 3284.5 KB)\n"
     ]
    },
    {
     "name": "stderr",
     "output_type": "stream",
     "text": [
      "\u001b[34m\u001b[1mval: \u001b[0mScanning /mnt3/peter/finetune/task2_datasets/YOLO_generated/labels/val.cache... 50 images, 0 backgrounds, 0 corrupt: 100%|██████████| 50/50 [00:00<?, ?it/s]\n",
      "                 Class     Images  Instances      Box(P          R      mAP50  mAP50-95): 100%|██████████| 4/4 [00:04<00:00,  1.18s/it]\n"
     ]
    },
    {
     "name": "stdout",
     "output_type": "stream",
     "text": [
      "                   all         50        493      0.222     0.0776      0.152      0.105\n",
      "                person         31        119      0.833      0.294      0.579      0.346\n",
      "               bicycle         12         13          0          0          0          0\n",
      "                   car         46        297      0.942      0.327       0.64      0.491\n",
      "            motorcycle          5          5          0          0          0          0\n",
      "              airplane          3          5          0          0          0          0\n",
      "                   bus         11         11          0          0          0          0\n",
      "                 train         10         10          0          0          0          0\n",
      "                 truck         18         33          0          0          0          0\n",
      "Speed: 16.6ms preprocess, 23.7ms inference, 0.0ms loss, 12.3ms postprocess per image\n",
      "Saving snow_domain_adaptation/baseline/validation/predictions.json...\n",
      "Results saved to \u001b[1msnow_domain_adaptation/baseline/validation\u001b[0m\n",
      "\n",
      "Baseline Metrics:\n",
      "mAP50: 0.1524\n",
      "mAP50-95: 0.1047\n",
      "Precision: 0.2219\n",
      "Recall: 0.0776\n"
     ]
    },
    {
     "data": {
      "image/png": "[encoded data removed]",
      "text/plain": [
       "<Figure size 1200x1000 with 2 Axes>"
      ]
     },
     "metadata": {},
     "output_type": "display_data"
    },
    {
     "name": "stdout",
     "output_type": "stream",
     "text": [
      "\n",
      "Baseline Per-Class Metrics:\n",
      "        Class      AP50        AP  Precision    Recall\n",
      "0      person  0.578891  0.346427   0.833333  0.294118\n",
      "1       rider  0.000000  0.000000   0.000000  0.000000\n",
      "2         car  0.640082  0.491411   0.941748  0.326599\n",
      "3       truck  0.000000  0.000000   0.000000  0.000000\n",
      "4         bus  0.000000  0.000000   0.000000  0.000000\n",
      "5       train  0.000000  0.000000   0.000000  0.000000\n",
      "6  motorcycle  0.000000  0.000000   0.000000  0.000000\n",
      "7     bicycle  0.000000  0.000000   0.000000  0.000000\n"
     ]
    }
   ],
   "source": [
    "# Load pre-trained YOLOv11 model\n",
    "baseline_model = YOLO('yolo11m.pt')  # Use the appropriate pre-trained model variant\n",
    "\n",
    "# Path to generated snow dataset\n",
    "snow_val_data = DATASETS[\"generated_snow\"] + \"/data.yaml\"\n",
    "\n",
    "# Run validation on pre-trained model\n",
    "print(\"Evaluating baseline pre-trained YOLOv11 on snow dataset...\")\n",
    "baseline_results = evaluate_model(\n",
    "    baseline_model, \n",
    "    snow_val_data, \n",
    "    project_name=\"snow_domain_adaptation/baseline\"\n",
    ")\n",
    "\n",
    "# Extract and display metrics\n",
    "baseline_metrics = extract_metrics(baseline_results)\n",
    "print(\"\\nBaseline Metrics:\")\n",
    "for metric, value in baseline_metrics.items():\n",
    "    print(f\"{metric}: {value:.4f}\")\n",
    "\n",
    "# Plot confusion matrix\n",
    "class_names = data_configs[\"generated_snow\"][\"names\"]\n",
    "plot_confusion_matrix(baseline_results, class_names, \"Baseline Model\")\n",
    "\n",
    "# Extract per-class metrics\n",
    "baseline_class_metrics = collect_metrics_by_class(baseline_results, class_names)\n",
    "print(\"\\nBaseline Per-Class Metrics:\")\n",
    "print(baseline_class_metrics)"
   ]
  },
  {
   "cell_type": "code",
   "execution_count": 5,
   "id": "fc47277f",
   "metadata": {},
   "outputs": [],
   "source": [
    "import torch\n",
    "import gc\n",
    "\n",
    "# clean up the baseline model\n",
    "del baseline_model\n",
    "gc.collect()\n",
    "torch.cuda.empty_cache()"
   ]
  },
  {
   "cell_type": "markdown",
   "id": "78f883b5",
   "metadata": {},
   "source": [
    "## 4. V1: Basic Fine-tuning\n",
    "\n",
    "Our first approach (V1) implements a straightforward fine-tuning strategy using only the generated snow dataset. This represents a simple domain adaptation approach that many practitioners might attempt first."
   ]
  },
  {
   "cell_type": "code",
   "execution_count": 6,
   "id": "be6519cb",
   "metadata": {},
   "outputs": [
    {
     "name": "stdout",
     "output_type": "stream",
     "text": [
      "Starting V1 fine-tuning on generated snow dataset...\n",
      "Ultralytics 8.3.129 🚀 Python-3.10.16 torch-2.7.0+cu126 CUDA:0 (NVIDIA GeForce RTX 4090, 24217MiB)\n",
      "\u001b[34m\u001b[1mengine/trainer: \u001b[0magnostic_nms=False, amp=True, augment=False, auto_augment=randaugment, batch=16, bgr=0.0, box=7.5, cache=False, cfg=None, classes=None, close_mosaic=10, cls=0.5, conf=None, copy_paste=0.0, copy_paste_mode=flip, cos_lr=False, cutmix=0.0, data=./task2_datasets/YOLO_generated/data.yaml, degrees=0.0, deterministic=True, device=0, dfl=1.5, dnn=False, dropout=0.0, dynamic=False, embed=None, epochs=50, erasing=0.4, exist_ok=False, fliplr=0.5, flipud=0.0, format=torchscript, fraction=1.0, freeze=None, half=False, hsv_h=0.015, hsv_s=0.7, hsv_v=0.4, imgsz=640, int8=False, iou=0.7, keras=False, kobj=1.0, line_width=None, lr0=0.01, lrf=0.01, mask_ratio=4, max_det=300, mixup=0.0, mode=train, model=yolo11m.pt, momentum=0.937, mosaic=1.0, multi_scale=False, name=v1_finetune_default, nbs=64, nms=False, opset=None, optimize=False, optimizer=auto, overlap_mask=True, patience=20, perspective=0.0, plots=True, pose=12.0, pretrained=True, profile=False, project=snow_domain_adaptation, rect=False, resume=False, retina_masks=False, save=True, save_conf=False, save_crop=False, save_dir=snow_domain_adaptation/v1_finetune_default, save_frames=False, save_json=False, save_period=-1, save_txt=False, scale=0.5, seed=0, shear=0.0, show=False, show_boxes=True, show_conf=True, show_labels=True, simplify=True, single_cls=False, source=None, split=val, stream_buffer=False, task=detect, time=None, tracker=botsort.yaml, translate=0.1, val=True, verbose=True, vid_stride=1, visualize=False, warmup_bias_lr=0.1, warmup_epochs=3.0, warmup_momentum=0.8, weight_decay=0.0005, workers=8, workspace=None\n",
      "Overriding model.yaml nc=80 with nc=8\n",
      "\n",
      "                   from  n    params  module                                       arguments                     \n",
      "  0                  -1  1      1856  ultralytics.nn.modules.conv.Conv             [3, 64, 3, 2]                 \n",
      "  1                  -1  1     73984  ultralytics.nn.modules.conv.Conv             [64, 128, 3, 2]               \n",
      "  2                  -1  1    111872  ultralytics.nn.modules.block.C3k2            [128, 256, 1, True, 0.25]     \n",
      "  3                  -1  1    590336  ultralytics.nn.modules.conv.Conv             [256, 256, 3, 2]              \n",
      "  4                  -1  1    444928  ultralytics.nn.modules.block.C3k2            [256, 512, 1, True, 0.25]     \n",
      "  5                  -1  1   2360320  ultralytics.nn.modules.conv.Conv             [512, 512, 3, 2]              \n",
      "  6                  -1  1   1380352  ultralytics.nn.modules.block.C3k2            [512, 512, 1, True]           \n",
      "  7                  -1  1   2360320  ultralytics.nn.modules.conv.Conv             [512, 512, 3, 2]              \n",
      "  8                  -1  1   1380352  ultralytics.nn.modules.block.C3k2            [512, 512, 1, True]           \n",
      "  9                  -1  1    656896  ultralytics.nn.modules.block.SPPF            [512, 512, 5]                 \n",
      " 10                  -1  1    990976  ultralytics.nn.modules.block.C2PSA           [512, 512, 1]                 \n",
      " 11                  -1  1         0  torch.nn.modules.upsampling.Upsample         [None, 2, 'nearest']          \n",
      " 12             [-1, 6]  1         0  ultralytics.nn.modules.conv.Concat           [1]                           \n",
      " 13                  -1  1   1642496  ultralytics.nn.modules.block.C3k2            [1024, 512, 1, True]          \n",
      " 14                  -1  1         0  torch.nn.modules.upsampling.Upsample         [None, 2, 'nearest']          \n",
      " 15             [-1, 4]  1         0  ultralytics.nn.modules.conv.Concat           [1]                           \n",
      " 16                  -1  1    542720  ultralytics.nn.modules.block.C3k2            [1024, 256, 1, True]          \n",
      " 17                  -1  1    590336  ultralytics.nn.modules.conv.Conv             [256, 256, 3, 2]              \n",
      " 18            [-1, 13]  1         0  ultralytics.nn.modules.conv.Concat           [1]                           \n",
      " 19                  -1  1   1511424  ultralytics.nn.modules.block.C3k2            [768, 512, 1, True]           \n",
      " 20                  -1  1   2360320  ultralytics.nn.modules.conv.Conv             [512, 512, 3, 2]              \n",
      " 21            [-1, 10]  1         0  ultralytics.nn.modules.conv.Concat           [1]                           \n",
      " 22                  -1  1   1642496  ultralytics.nn.modules.block.C3k2            [1024, 512, 1, True]          \n",
      " 23        [16, 19, 22]  1   1417192  ultralytics.nn.modules.head.Detect           [8, [256, 512, 512]]          \n",
      "YOLO11m summary: 231 layers, 20,059,176 parameters, 20,059,160 gradients, 68.2 GFLOPs\n",
      "\n",
      "Transferred 643/649 items from pretrained weights\n",
      "\u001b[34m\u001b[1mUltralytics HUB: \u001b[0mView model at https://hub.ultralytics.com/models/sZgJJwYJ5KpXk2sZkAyW 🚀\n",
      "Freezing layer 'model.23.dfl.conv.weight'\n",
      "\u001b[34m\u001b[1mAMP: \u001b[0mrunning Automatic Mixed Precision (AMP) checks...\n",
      "\u001b[34m\u001b[1mAMP: \u001b[0mchecks passed ✅\n",
      "\u001b[34m\u001b[1mtrain: \u001b[0mFast image access ✅ (ping: 0.0±0.0 ms, read: 316.3±172.2 MB/s, size: 3240.4 KB)\n"
     ]
    },
    {
     "name": "stderr",
     "output_type": "stream",
     "text": [
      "\u001b[34m\u001b[1mtrain: \u001b[0mScanning /mnt3/peter/finetune/task2_datasets/YOLO_generated/labels/train... 200 images, 0 backgrounds, 0 corrupt: 100%|██████████| 200/200 [00:01<00:00, 133.48it/s]"
     ]
    },
    {
     "name": "stdout",
     "output_type": "stream",
     "text": [
      "\u001b[34m\u001b[1mtrain: \u001b[0mNew cache created: /mnt3/peter/finetune/task2_datasets/YOLO_generated/labels/train.cache\n"
     ]
    },
    {
     "name": "stderr",
     "output_type": "stream",
     "text": [
      "\n"
     ]
    },
    {
     "name": "stdout",
     "output_type": "stream",
     "text": [
      "\u001b[34m\u001b[1mval: \u001b[0mFast image access ✅ (ping: 0.0±0.0 ms, read: 4361.2±3137.3 MB/s, size: 3142.4 KB)\n"
     ]
    },
    {
     "name": "stderr",
     "output_type": "stream",
     "text": [
      "\u001b[34m\u001b[1mval: \u001b[0mScanning /mnt3/peter/finetune/task2_datasets/YOLO_generated/labels/val.cache... 50 images, 0 backgrounds, 0 corrupt: 100%|██████████| 50/50 [00:00<?, ?it/s]\n"
     ]
    },
    {
     "name": "stdout",
     "output_type": "stream",
     "text": [
      "Plotting labels to snow_domain_adaptation/v1_finetune_default/labels.jpg... \n",
      "\u001b[34m\u001b[1moptimizer:\u001b[0m 'optimizer=auto' found, ignoring 'lr0=0.01' and 'momentum=0.937' and determining best 'optimizer', 'lr0' and 'momentum' automatically... \n",
      "\u001b[34m\u001b[1moptimizer:\u001b[0m AdamW(lr=0.000833, momentum=0.9) with parameter groups 106 weight(decay=0.0), 113 weight(decay=0.0005), 112 bias(decay=0.0)\n",
      "Image sizes 640 train, 640 val\n",
      "Using 8 dataloader workers\n",
      "Logging results to \u001b[1msnow_domain_adaptation/v1_finetune_default\u001b[0m\n",
      "Starting training for 50 epochs...\n",
      "\n",
      "      Epoch    GPU_mem   box_loss   cls_loss   dfl_loss  Instances       Size\n"
     ]
    },
    {
     "name": "stderr",
     "output_type": "stream",
     "text": [
      "       1/50      7.84G      1.566      3.501      1.081        176        640: 100%|██████████| 13/13 [00:03<00:00,  3.71it/s]\n",
      "                 Class     Images  Instances      Box(P          R      mAP50  mAP50-95): 100%|██████████| 2/2 [00:00<00:00,  4.24it/s]"
     ]
    },
    {
     "name": "stdout",
     "output_type": "stream",
     "text": [
      "                   all         50        493      0.788     0.0694     0.0802      0.043\n"
     ]
    },
    {
     "name": "stderr",
     "output_type": "stream",
     "text": [
      "\n"
     ]
    },
    {
     "name": "stdout",
     "output_type": "stream",
     "text": [
      "\n",
      "      Epoch    GPU_mem   box_loss   cls_loss   dfl_loss  Instances       Size\n"
     ]
    },
    {
     "name": "stderr",
     "output_type": "stream",
     "text": [
      "       2/50      7.94G      1.469      1.743      1.042        149        640: 100%|██████████| 13/13 [00:01<00:00,  7.75it/s]\n",
      "                 Class     Images  Instances      Box(P          R      mAP50  mAP50-95): 100%|██████████| 2/2 [00:00<00:00,  9.17it/s]"
     ]
    },
    {
     "name": "stdout",
     "output_type": "stream",
     "text": [
      "                   all         50        493      0.639       0.16      0.165     0.0866\n"
     ]
    },
    {
     "name": "stderr",
     "output_type": "stream",
     "text": [
      "\n"
     ]
    },
    {
     "name": "stdout",
     "output_type": "stream",
     "text": [
      "\n",
      "      Epoch    GPU_mem   box_loss   cls_loss   dfl_loss  Instances       Size\n"
     ]
    },
    {
     "name": "stderr",
     "output_type": "stream",
     "text": [
      "       3/50      8.18G      1.491      1.583      1.065        125        640: 100%|██████████| 13/13 [00:01<00:00,  7.71it/s]\n",
      "                 Class     Images  Instances      Box(P          R      mAP50  mAP50-95): 100%|██████████| 2/2 [00:00<00:00, 10.28it/s]\n"
     ]
    },
    {
     "name": "stdout",
     "output_type": "stream",
     "text": [
      "                   all         50        493      0.451      0.182      0.195      0.111\n",
      "\n",
      "      Epoch    GPU_mem   box_loss   cls_loss   dfl_loss  Instances       Size\n"
     ]
    },
    {
     "name": "stderr",
     "output_type": "stream",
     "text": [
      "       4/50      8.22G      1.534      1.445      1.081        166        640: 100%|██████████| 13/13 [00:01<00:00,  8.01it/s]\n",
      "                 Class     Images  Instances      Box(P          R      mAP50  mAP50-95): 100%|██████████| 2/2 [00:00<00:00, 10.51it/s]\n"
     ]
    },
    {
     "name": "stdout",
     "output_type": "stream",
     "text": [
      "                   all         50        493      0.132      0.177      0.119     0.0606\n",
      "\n",
      "      Epoch    GPU_mem   box_loss   cls_loss   dfl_loss  Instances       Size\n"
     ]
    },
    {
     "name": "stderr",
     "output_type": "stream",
     "text": [
      "       5/50      8.31G      1.506      1.373      1.094        105        640: 100%|██████████| 13/13 [00:01<00:00,  8.15it/s]\n",
      "                 Class     Images  Instances      Box(P          R      mAP50  mAP50-95): 100%|██████████| 2/2 [00:00<00:00, 10.49it/s]\n"
     ]
    },
    {
     "name": "stdout",
     "output_type": "stream",
     "text": [
      "                   all         50        493      0.723      0.139      0.155     0.0819\n",
      "\n",
      "      Epoch    GPU_mem   box_loss   cls_loss   dfl_loss  Instances       Size\n"
     ]
    },
    {
     "name": "stderr",
     "output_type": "stream",
     "text": [
      "       6/50      8.33G      1.546       1.41      1.102        133        640: 100%|██████████| 13/13 [00:01<00:00,  7.91it/s]\n",
      "                 Class     Images  Instances      Box(P          R      mAP50  mAP50-95): 100%|██████████| 2/2 [00:00<00:00, 10.59it/s]"
     ]
    },
    {
     "name": "stdout",
     "output_type": "stream",
     "text": [
      "                   all         50        493      0.487      0.168      0.153     0.0763\n"
     ]
    },
    {
     "name": "stderr",
     "output_type": "stream",
     "text": [
      "\n"
     ]
    },
    {
     "name": "stdout",
     "output_type": "stream",
     "text": [
      "\n",
      "      Epoch    GPU_mem   box_loss   cls_loss   dfl_loss  Instances       Size\n"
     ]
    },
    {
     "name": "stderr",
     "output_type": "stream",
     "text": [
      "       7/50      8.33G      1.549      1.288      1.095        202        640: 100%|██████████| 13/13 [00:01<00:00,  8.32it/s]\n",
      "                 Class     Images  Instances      Box(P          R      mAP50  mAP50-95): 100%|██████████| 2/2 [00:00<00:00, 10.59it/s]"
     ]
    },
    {
     "name": "stdout",
     "output_type": "stream",
     "text": [
      "                   all         50        493      0.692       0.16      0.173      0.088\n"
     ]
    },
    {
     "name": "stderr",
     "output_type": "stream",
     "text": [
      "\n"
     ]
    },
    {
     "name": "stdout",
     "output_type": "stream",
     "text": [
      "\n",
      "      Epoch    GPU_mem   box_loss   cls_loss   dfl_loss  Instances       Size\n"
     ]
    },
    {
     "name": "stderr",
     "output_type": "stream",
     "text": [
      "       8/50      8.33G      1.479       1.32       1.07        208        640: 100%|██████████| 13/13 [00:01<00:00,  8.29it/s]\n",
      "                 Class     Images  Instances      Box(P          R      mAP50  mAP50-95): 100%|██████████| 2/2 [00:00<00:00, 10.53it/s]"
     ]
    },
    {
     "name": "stdout",
     "output_type": "stream",
     "text": [
      "                   all         50        493      0.152      0.149      0.119     0.0575\n"
     ]
    },
    {
     "name": "stderr",
     "output_type": "stream",
     "text": [
      "\n"
     ]
    },
    {
     "name": "stdout",
     "output_type": "stream",
     "text": [
      "\n",
      "      Epoch    GPU_mem   box_loss   cls_loss   dfl_loss  Instances       Size\n"
     ]
    },
    {
     "name": "stderr",
     "output_type": "stream",
     "text": [
      "       9/50      8.33G      1.574      1.343      1.092        174        640: 100%|██████████| 13/13 [00:01<00:00,  8.26it/s]\n",
      "                 Class     Images  Instances      Box(P          R      mAP50  mAP50-95): 100%|██████████| 2/2 [00:00<00:00, 10.23it/s]\n"
     ]
    },
    {
     "name": "stdout",
     "output_type": "stream",
     "text": [
      "                   all         50        493      0.281       0.17      0.125     0.0643\n",
      "\n",
      "      Epoch    GPU_mem   box_loss   cls_loss   dfl_loss  Instances       Size\n"
     ]
    },
    {
     "name": "stderr",
     "output_type": "stream",
     "text": [
      "      10/50      8.49G      1.493      1.236      1.044         86        640: 100%|██████████| 13/13 [00:01<00:00,  8.46it/s]\n",
      "                 Class     Images  Instances      Box(P          R      mAP50  mAP50-95): 100%|██████████| 2/2 [00:00<00:00, 10.62it/s]"
     ]
    },
    {
     "name": "stdout",
     "output_type": "stream",
     "text": [
      "                   all         50        493      0.379      0.164       0.15     0.0734\n"
     ]
    },
    {
     "name": "stderr",
     "output_type": "stream",
     "text": [
      "\n"
     ]
    },
    {
     "name": "stdout",
     "output_type": "stream",
     "text": [
      "\n",
      "      Epoch    GPU_mem   box_loss   cls_loss   dfl_loss  Instances       Size\n"
     ]
    },
    {
     "name": "stderr",
     "output_type": "stream",
     "text": [
      "      11/50      8.56G      1.544      1.224      1.074        240        640: 100%|██████████| 13/13 [00:01<00:00,  8.25it/s]\n",
      "                 Class     Images  Instances      Box(P          R      mAP50  mAP50-95): 100%|██████████| 2/2 [00:00<00:00, 10.44it/s]\n"
     ]
    },
    {
     "name": "stdout",
     "output_type": "stream",
     "text": [
      "                   all         50        493      0.139      0.244      0.137     0.0703\n",
      "\n",
      "      Epoch    GPU_mem   box_loss   cls_loss   dfl_loss  Instances       Size\n"
     ]
    },
    {
     "name": "stderr",
     "output_type": "stream",
     "text": [
      "      12/50      8.58G      1.527      1.187      1.054        158        640: 100%|██████████| 13/13 [00:01<00:00,  8.03it/s]\n",
      "                 Class     Images  Instances      Box(P          R      mAP50  mAP50-95): 100%|██████████| 2/2 [00:00<00:00, 10.47it/s]\n"
     ]
    },
    {
     "name": "stdout",
     "output_type": "stream",
     "text": [
      "                   all         50        493      0.336      0.209      0.149     0.0695\n",
      "\n",
      "      Epoch    GPU_mem   box_loss   cls_loss   dfl_loss  Instances       Size\n"
     ]
    },
    {
     "name": "stderr",
     "output_type": "stream",
     "text": [
      "      13/50      8.58G      1.485      1.161      1.048        201        640: 100%|██████████| 13/13 [00:01<00:00,  8.32it/s]\n",
      "                 Class     Images  Instances      Box(P          R      mAP50  mAP50-95): 100%|██████████| 2/2 [00:00<00:00, 10.65it/s]"
     ]
    },
    {
     "name": "stdout",
     "output_type": "stream",
     "text": [
      "                   all         50        493      0.172      0.189      0.136      0.069\n"
     ]
    },
    {
     "name": "stderr",
     "output_type": "stream",
     "text": [
      "\n"
     ]
    },
    {
     "name": "stdout",
     "output_type": "stream",
     "text": [
      "\n",
      "      Epoch    GPU_mem   box_loss   cls_loss   dfl_loss  Instances       Size\n"
     ]
    },
    {
     "name": "stderr",
     "output_type": "stream",
     "text": [
      "      14/50      8.58G      1.454      1.155      1.034        206        640: 100%|██████████| 13/13 [00:01<00:00,  8.31it/s]\n",
      "                 Class     Images  Instances      Box(P          R      mAP50  mAP50-95): 100%|██████████| 2/2 [00:00<00:00, 10.76it/s]"
     ]
    },
    {
     "name": "stdout",
     "output_type": "stream",
     "text": [
      "                   all         50        493      0.356      0.147      0.154     0.0813\n"
     ]
    },
    {
     "name": "stderr",
     "output_type": "stream",
     "text": [
      "\n"
     ]
    },
    {
     "name": "stdout",
     "output_type": "stream",
     "text": [
      "\n",
      "      Epoch    GPU_mem   box_loss   cls_loss   dfl_loss  Instances       Size\n"
     ]
    },
    {
     "name": "stderr",
     "output_type": "stream",
     "text": [
      "      15/50      8.58G      1.404      1.106      1.039        140        640: 100%|██████████| 13/13 [00:01<00:00,  8.29it/s]\n",
      "                 Class     Images  Instances      Box(P          R      mAP50  mAP50-95): 100%|██████████| 2/2 [00:00<00:00, 10.81it/s]"
     ]
    },
    {
     "name": "stdout",
     "output_type": "stream",
     "text": [
      "                   all         50        493      0.322      0.216      0.159     0.0782\n"
     ]
    },
    {
     "name": "stderr",
     "output_type": "stream",
     "text": [
      "\n"
     ]
    },
    {
     "name": "stdout",
     "output_type": "stream",
     "text": [
      "\n",
      "      Epoch    GPU_mem   box_loss   cls_loss   dfl_loss  Instances       Size\n"
     ]
    },
    {
     "name": "stderr",
     "output_type": "stream",
     "text": [
      "      16/50      8.58G      1.474      1.109      1.032         91        640: 100%|██████████| 13/13 [00:01<00:00,  8.10it/s]\n",
      "                 Class     Images  Instances      Box(P          R      mAP50  mAP50-95): 100%|██████████| 2/2 [00:00<00:00, 10.61it/s]"
     ]
    },
    {
     "name": "stdout",
     "output_type": "stream",
     "text": [
      "                   all         50        493      0.364      0.173      0.203      0.107\n"
     ]
    },
    {
     "name": "stderr",
     "output_type": "stream",
     "text": [
      "\n"
     ]
    },
    {
     "name": "stdout",
     "output_type": "stream",
     "text": [
      "\n",
      "      Epoch    GPU_mem   box_loss   cls_loss   dfl_loss  Instances       Size\n"
     ]
    },
    {
     "name": "stderr",
     "output_type": "stream",
     "text": [
      "      17/50      8.58G      1.383      1.043      1.024        168        640: 100%|██████████| 13/13 [00:01<00:00,  8.28it/s]\n",
      "                 Class     Images  Instances      Box(P          R      mAP50  mAP50-95): 100%|██████████| 2/2 [00:00<00:00, 10.79it/s]"
     ]
    },
    {
     "name": "stdout",
     "output_type": "stream",
     "text": [
      "                   all         50        493      0.235      0.236        0.2      0.112\n"
     ]
    },
    {
     "name": "stderr",
     "output_type": "stream",
     "text": [
      "\n"
     ]
    },
    {
     "name": "stdout",
     "output_type": "stream",
     "text": [
      "\n",
      "      Epoch    GPU_mem   box_loss   cls_loss   dfl_loss  Instances       Size\n"
     ]
    },
    {
     "name": "stderr",
     "output_type": "stream",
     "text": [
      "      18/50      8.58G      1.404      1.033      1.035        149        640: 100%|██████████| 13/13 [00:01<00:00,  8.24it/s]\n",
      "                 Class     Images  Instances      Box(P          R      mAP50  mAP50-95): 100%|██████████| 2/2 [00:00<00:00, 10.78it/s]"
     ]
    },
    {
     "name": "stdout",
     "output_type": "stream",
     "text": [
      "                   all         50        493      0.403      0.182      0.191      0.103\n"
     ]
    },
    {
     "name": "stderr",
     "output_type": "stream",
     "text": [
      "\n"
     ]
    },
    {
     "name": "stdout",
     "output_type": "stream",
     "text": [
      "\n",
      "      Epoch    GPU_mem   box_loss   cls_loss   dfl_loss  Instances       Size\n"
     ]
    },
    {
     "name": "stderr",
     "output_type": "stream",
     "text": [
      "      19/50      8.58G      1.361       1.04      1.014        146        640: 100%|██████████| 13/13 [00:01<00:00,  8.29it/s]\n",
      "                 Class     Images  Instances      Box(P          R      mAP50  mAP50-95): 100%|██████████| 2/2 [00:00<00:00, 10.44it/s]\n"
     ]
    },
    {
     "name": "stdout",
     "output_type": "stream",
     "text": [
      "                   all         50        493      0.411      0.191      0.209      0.107\n",
      "\n",
      "      Epoch    GPU_mem   box_loss   cls_loss   dfl_loss  Instances       Size\n"
     ]
    },
    {
     "name": "stderr",
     "output_type": "stream",
     "text": [
      "      20/50      8.58G      1.387      1.002      1.029        101        640: 100%|██████████| 13/13 [00:01<00:00,  8.04it/s]\n",
      "                 Class     Images  Instances      Box(P          R      mAP50  mAP50-95): 100%|██████████| 2/2 [00:00<00:00, 10.91it/s]\n"
     ]
    },
    {
     "name": "stdout",
     "output_type": "stream",
     "text": [
      "                   all         50        493      0.263       0.17      0.164     0.0778\n",
      "\n",
      "      Epoch    GPU_mem   box_loss   cls_loss   dfl_loss  Instances       Size\n"
     ]
    },
    {
     "name": "stderr",
     "output_type": "stream",
     "text": [
      "      21/50      8.58G      1.322     0.9627      0.998        160        640: 100%|██████████| 13/13 [00:01<00:00,  8.34it/s]\n",
      "                 Class     Images  Instances      Box(P          R      mAP50  mAP50-95): 100%|██████████| 2/2 [00:00<00:00, 11.07it/s]\n"
     ]
    },
    {
     "name": "stdout",
     "output_type": "stream",
     "text": [
      "                   all         50        493      0.173      0.188      0.176        0.1\n",
      "\n",
      "      Epoch    GPU_mem   box_loss   cls_loss   dfl_loss  Instances       Size\n"
     ]
    },
    {
     "name": "stderr",
     "output_type": "stream",
     "text": [
      "      22/50      8.58G      1.311      0.968     0.9919        217        640: 100%|██████████| 13/13 [00:01<00:00,  8.24it/s]\n",
      "                 Class     Images  Instances      Box(P          R      mAP50  mAP50-95): 100%|██████████| 2/2 [00:00<00:00, 10.78it/s]"
     ]
    },
    {
     "name": "stdout",
     "output_type": "stream",
     "text": [
      "                   all         50        493      0.619      0.172       0.21      0.112\n"
     ]
    },
    {
     "name": "stderr",
     "output_type": "stream",
     "text": [
      "\n"
     ]
    },
    {
     "name": "stdout",
     "output_type": "stream",
     "text": [
      "\n",
      "      Epoch    GPU_mem   box_loss   cls_loss   dfl_loss  Instances       Size\n"
     ]
    },
    {
     "name": "stderr",
     "output_type": "stream",
     "text": [
      "      23/50      8.58G      1.312     0.9478      1.008        105        640: 100%|██████████| 13/13 [00:01<00:00,  8.25it/s]\n",
      "                 Class     Images  Instances      Box(P          R      mAP50  mAP50-95): 100%|██████████| 2/2 [00:00<00:00, 10.78it/s]"
     ]
    },
    {
     "name": "stdout",
     "output_type": "stream",
     "text": [
      "                   all         50        493      0.459      0.227      0.251      0.139\n"
     ]
    },
    {
     "name": "stderr",
     "output_type": "stream",
     "text": [
      "\n"
     ]
    },
    {
     "name": "stdout",
     "output_type": "stream",
     "text": [
      "\n",
      "      Epoch    GPU_mem   box_loss   cls_loss   dfl_loss  Instances       Size\n"
     ]
    },
    {
     "name": "stderr",
     "output_type": "stream",
     "text": [
      "      24/50      8.58G      1.287     0.8946     0.9897        103        640: 100%|██████████| 13/13 [00:01<00:00,  8.09it/s]\n",
      "                 Class     Images  Instances      Box(P          R      mAP50  mAP50-95): 100%|██████████| 2/2 [00:00<00:00, 10.99it/s]\n"
     ]
    },
    {
     "name": "stdout",
     "output_type": "stream",
     "text": [
      "                   all         50        493      0.441       0.21      0.251       0.13\n",
      "\n",
      "      Epoch    GPU_mem   box_loss   cls_loss   dfl_loss  Instances       Size\n"
     ]
    },
    {
     "name": "stderr",
     "output_type": "stream",
     "text": [
      "      25/50      8.58G      1.305      0.898     0.9799        130        640: 100%|██████████| 13/13 [00:01<00:00,  8.28it/s]\n",
      "                 Class     Images  Instances      Box(P          R      mAP50  mAP50-95): 100%|██████████| 2/2 [00:00<00:00, 10.77it/s]"
     ]
    },
    {
     "name": "stdout",
     "output_type": "stream",
     "text": [
      "                   all         50        493      0.363      0.284      0.246       0.14\n"
     ]
    },
    {
     "name": "stderr",
     "output_type": "stream",
     "text": [
      "\n"
     ]
    },
    {
     "name": "stdout",
     "output_type": "stream",
     "text": [
      "\n",
      "      Epoch    GPU_mem   box_loss   cls_loss   dfl_loss  Instances       Size\n"
     ]
    },
    {
     "name": "stderr",
     "output_type": "stream",
     "text": [
      "      26/50      8.58G      1.226     0.8755     0.9769        127        640: 100%|██████████| 13/13 [00:01<00:00,  8.29it/s]\n",
      "                 Class     Images  Instances      Box(P          R      mAP50  mAP50-95): 100%|██████████| 2/2 [00:00<00:00, 10.68it/s]"
     ]
    },
    {
     "name": "stdout",
     "output_type": "stream",
     "text": [
      "                   all         50        493      0.433       0.26      0.257      0.134\n"
     ]
    },
    {
     "name": "stderr",
     "output_type": "stream",
     "text": [
      "\n"
     ]
    },
    {
     "name": "stdout",
     "output_type": "stream",
     "text": [
      "\n",
      "      Epoch    GPU_mem   box_loss   cls_loss   dfl_loss  Instances       Size\n"
     ]
    },
    {
     "name": "stderr",
     "output_type": "stream",
     "text": [
      "      27/50      8.58G      1.257     0.8815     0.9725        165        640: 100%|██████████| 13/13 [00:01<00:00,  8.31it/s]\n",
      "                 Class     Images  Instances      Box(P          R      mAP50  mAP50-95): 100%|██████████| 2/2 [00:00<00:00, 10.74it/s]"
     ]
    },
    {
     "name": "stdout",
     "output_type": "stream",
     "text": [
      "                   all         50        493      0.497      0.223      0.279      0.161\n"
     ]
    },
    {
     "name": "stderr",
     "output_type": "stream",
     "text": [
      "\n"
     ]
    },
    {
     "name": "stdout",
     "output_type": "stream",
     "text": [
      "\n",
      "      Epoch    GPU_mem   box_loss   cls_loss   dfl_loss  Instances       Size\n"
     ]
    },
    {
     "name": "stderr",
     "output_type": "stream",
     "text": [
      "      28/50      8.58G      1.268     0.8916     0.9798        144        640: 100%|██████████| 13/13 [00:01<00:00,  8.07it/s]\n",
      "                 Class     Images  Instances      Box(P          R      mAP50  mAP50-95): 100%|██████████| 2/2 [00:00<00:00, 11.18it/s]\n"
     ]
    },
    {
     "name": "stdout",
     "output_type": "stream",
     "text": [
      "                   all         50        493       0.57       0.25      0.262      0.146\n",
      "\n",
      "      Epoch    GPU_mem   box_loss   cls_loss   dfl_loss  Instances       Size\n"
     ]
    },
    {
     "name": "stderr",
     "output_type": "stream",
     "text": [
      "      29/50      8.58G      1.224     0.8557     0.9629        186        640: 100%|██████████| 13/13 [00:01<00:00,  7.37it/s]\n",
      "                 Class     Images  Instances      Box(P          R      mAP50  mAP50-95): 100%|██████████| 2/2 [00:00<00:00, 10.67it/s]"
     ]
    },
    {
     "name": "stdout",
     "output_type": "stream",
     "text": [
      "                   all         50        493      0.662      0.244      0.268      0.147\n"
     ]
    },
    {
     "name": "stderr",
     "output_type": "stream",
     "text": [
      "\n"
     ]
    },
    {
     "name": "stdout",
     "output_type": "stream",
     "text": [
      "\n",
      "      Epoch    GPU_mem   box_loss   cls_loss   dfl_loss  Instances       Size\n"
     ]
    },
    {
     "name": "stderr",
     "output_type": "stream",
     "text": [
      "      30/50      8.58G      1.166     0.7978     0.9401        230        640: 100%|██████████| 13/13 [00:01<00:00,  8.22it/s]\n",
      "                 Class     Images  Instances      Box(P          R      mAP50  mAP50-95): 100%|██████████| 2/2 [00:00<00:00, 11.29it/s]\n"
     ]
    },
    {
     "name": "stdout",
     "output_type": "stream",
     "text": [
      "                   all         50        493      0.495      0.225      0.271      0.143\n",
      "\n",
      "      Epoch    GPU_mem   box_loss   cls_loss   dfl_loss  Instances       Size\n"
     ]
    },
    {
     "name": "stderr",
     "output_type": "stream",
     "text": [
      "      31/50      8.58G        1.2     0.8108     0.9679        178        640: 100%|██████████| 13/13 [00:01<00:00,  8.30it/s]\n",
      "                 Class     Images  Instances      Box(P          R      mAP50  mAP50-95): 100%|██████████| 2/2 [00:00<00:00, 10.74it/s]"
     ]
    },
    {
     "name": "stdout",
     "output_type": "stream",
     "text": [
      "                   all         50        493      0.358      0.256      0.269       0.14\n"
     ]
    },
    {
     "name": "stderr",
     "output_type": "stream",
     "text": [
      "\n"
     ]
    },
    {
     "name": "stdout",
     "output_type": "stream",
     "text": [
      "\n",
      "      Epoch    GPU_mem   box_loss   cls_loss   dfl_loss  Instances       Size\n"
     ]
    },
    {
     "name": "stderr",
     "output_type": "stream",
     "text": [
      "      32/50      8.58G      1.159     0.7743     0.9307        176        640: 100%|██████████| 13/13 [00:01<00:00,  8.15it/s]\n",
      "                 Class     Images  Instances      Box(P          R      mAP50  mAP50-95): 100%|██████████| 2/2 [00:00<00:00, 10.82it/s]"
     ]
    },
    {
     "name": "stdout",
     "output_type": "stream",
     "text": [
      "                   all         50        493      0.444      0.267      0.282      0.151\n"
     ]
    },
    {
     "name": "stderr",
     "output_type": "stream",
     "text": [
      "\n"
     ]
    },
    {
     "name": "stdout",
     "output_type": "stream",
     "text": [
      "\n",
      "      Epoch    GPU_mem   box_loss   cls_loss   dfl_loss  Instances       Size\n"
     ]
    },
    {
     "name": "stderr",
     "output_type": "stream",
     "text": [
      "      33/50      8.58G      1.193     0.8076     0.9308         99        640: 100%|██████████| 13/13 [00:01<00:00,  8.18it/s]\n",
      "                 Class     Images  Instances      Box(P          R      mAP50  mAP50-95): 100%|██████████| 2/2 [00:00<00:00, 10.82it/s]"
     ]
    },
    {
     "name": "stdout",
     "output_type": "stream",
     "text": [
      "                   all         50        493        0.5      0.262      0.309      0.158\n"
     ]
    },
    {
     "name": "stderr",
     "output_type": "stream",
     "text": [
      "\n"
     ]
    },
    {
     "name": "stdout",
     "output_type": "stream",
     "text": [
      "\n",
      "      Epoch    GPU_mem   box_loss   cls_loss   dfl_loss  Instances       Size\n"
     ]
    },
    {
     "name": "stderr",
     "output_type": "stream",
     "text": [
      "      34/50      8.58G      1.141     0.7746     0.9351        130        640: 100%|██████████| 13/13 [00:01<00:00,  8.29it/s]\n",
      "                 Class     Images  Instances      Box(P          R      mAP50  mAP50-95): 100%|██████████| 2/2 [00:00<00:00, 10.81it/s]"
     ]
    },
    {
     "name": "stdout",
     "output_type": "stream",
     "text": [
      "                   all         50        493      0.462      0.267      0.283      0.155\n"
     ]
    },
    {
     "name": "stderr",
     "output_type": "stream",
     "text": [
      "\n"
     ]
    },
    {
     "name": "stdout",
     "output_type": "stream",
     "text": [
      "\n",
      "      Epoch    GPU_mem   box_loss   cls_loss   dfl_loss  Instances       Size\n"
     ]
    },
    {
     "name": "stderr",
     "output_type": "stream",
     "text": [
      "      35/50      8.58G      1.136     0.7473     0.9388        134        640: 100%|██████████| 13/13 [00:01<00:00,  8.25it/s]\n",
      "                 Class     Images  Instances      Box(P          R      mAP50  mAP50-95): 100%|██████████| 2/2 [00:00<00:00, 10.86it/s]"
     ]
    },
    {
     "name": "stdout",
     "output_type": "stream",
     "text": [
      "                   all         50        493      0.451      0.288      0.267      0.135\n"
     ]
    },
    {
     "name": "stderr",
     "output_type": "stream",
     "text": [
      "\n"
     ]
    },
    {
     "name": "stdout",
     "output_type": "stream",
     "text": [
      "\n",
      "      Epoch    GPU_mem   box_loss   cls_loss   dfl_loss  Instances       Size\n"
     ]
    },
    {
     "name": "stderr",
     "output_type": "stream",
     "text": [
      "      36/50      8.58G      1.085     0.7237     0.9262        169        640: 100%|██████████| 13/13 [00:01<00:00,  7.97it/s]\n",
      "                 Class     Images  Instances      Box(P          R      mAP50  mAP50-95): 100%|██████████| 2/2 [00:00<00:00, 10.80it/s]"
     ]
    },
    {
     "name": "stdout",
     "output_type": "stream",
     "text": [
      "                   all         50        493      0.375      0.294      0.259      0.135\n"
     ]
    },
    {
     "name": "stderr",
     "output_type": "stream",
     "text": [
      "\n"
     ]
    },
    {
     "name": "stdout",
     "output_type": "stream",
     "text": [
      "\n",
      "      Epoch    GPU_mem   box_loss   cls_loss   dfl_loss  Instances       Size\n"
     ]
    },
    {
     "name": "stderr",
     "output_type": "stream",
     "text": [
      "      37/50      8.58G      1.128     0.7436       0.93        118        640: 100%|██████████| 13/13 [00:01<00:00,  8.30it/s]\n",
      "                 Class     Images  Instances      Box(P          R      mAP50  mAP50-95): 100%|██████████| 2/2 [00:00<00:00, 10.80it/s]"
     ]
    },
    {
     "name": "stdout",
     "output_type": "stream",
     "text": [
      "                   all         50        493      0.486      0.258      0.285      0.154\n"
     ]
    },
    {
     "name": "stderr",
     "output_type": "stream",
     "text": [
      "\n"
     ]
    },
    {
     "name": "stdout",
     "output_type": "stream",
     "text": [
      "\n",
      "      Epoch    GPU_mem   box_loss   cls_loss   dfl_loss  Instances       Size\n"
     ]
    },
    {
     "name": "stderr",
     "output_type": "stream",
     "text": [
      "      38/50      8.58G      1.069     0.6986     0.9275         99        640: 100%|██████████| 13/13 [00:01<00:00,  8.19it/s]\n",
      "                 Class     Images  Instances      Box(P          R      mAP50  mAP50-95): 100%|██████████| 2/2 [00:00<00:00, 11.04it/s]"
     ]
    },
    {
     "name": "stdout",
     "output_type": "stream",
     "text": [
      "                   all         50        493      0.455       0.28      0.286      0.159\n"
     ]
    },
    {
     "name": "stderr",
     "output_type": "stream",
     "text": [
      "\n"
     ]
    },
    {
     "name": "stdout",
     "output_type": "stream",
     "text": [
      "\n",
      "      Epoch    GPU_mem   box_loss   cls_loss   dfl_loss  Instances       Size\n"
     ]
    },
    {
     "name": "stderr",
     "output_type": "stream",
     "text": [
      "      39/50      8.58G      1.089     0.7268     0.9154        139        640: 100%|██████████| 13/13 [00:01<00:00,  8.23it/s]\n",
      "                 Class     Images  Instances      Box(P          R      mAP50  mAP50-95): 100%|██████████| 2/2 [00:00<00:00, 10.83it/s]"
     ]
    },
    {
     "name": "stdout",
     "output_type": "stream",
     "text": [
      "                   all         50        493      0.583      0.225        0.3      0.156\n"
     ]
    },
    {
     "name": "stderr",
     "output_type": "stream",
     "text": [
      "\n"
     ]
    },
    {
     "name": "stdout",
     "output_type": "stream",
     "text": [
      "\n",
      "      Epoch    GPU_mem   box_loss   cls_loss   dfl_loss  Instances       Size\n"
     ]
    },
    {
     "name": "stderr",
     "output_type": "stream",
     "text": [
      "      40/50      8.58G      1.097     0.7176      0.924        145        640: 100%|██████████| 13/13 [00:01<00:00,  7.94it/s]\n",
      "                 Class     Images  Instances      Box(P          R      mAP50  mAP50-95): 100%|██████████| 2/2 [00:00<00:00, 10.90it/s]"
     ]
    },
    {
     "name": "stdout",
     "output_type": "stream",
     "text": [
      "                   all         50        493      0.555      0.248      0.301      0.161\n"
     ]
    },
    {
     "name": "stderr",
     "output_type": "stream",
     "text": [
      "\n"
     ]
    },
    {
     "name": "stdout",
     "output_type": "stream",
     "text": [
      "Closing dataloader mosaic\n",
      "\n",
      "      Epoch    GPU_mem   box_loss   cls_loss   dfl_loss  Instances       Size\n"
     ]
    },
    {
     "name": "stderr",
     "output_type": "stream",
     "text": [
      "      41/50       8.6G      1.097     0.7335     0.9191         85        640: 100%|██████████| 13/13 [00:03<00:00,  4.19it/s]\n",
      "                 Class     Images  Instances      Box(P          R      mAP50  mAP50-95): 100%|██████████| 2/2 [00:00<00:00, 10.89it/s]\n"
     ]
    },
    {
     "name": "stdout",
     "output_type": "stream",
     "text": [
      "                   all         50        493      0.531      0.265      0.295      0.165\n",
      "\n",
      "      Epoch    GPU_mem   box_loss   cls_loss   dfl_loss  Instances       Size\n"
     ]
    },
    {
     "name": "stderr",
     "output_type": "stream",
     "text": [
      "      42/50       8.6G      1.111     0.7193     0.9225         98        640: 100%|██████████| 13/13 [00:01<00:00,  8.34it/s]\n",
      "                 Class     Images  Instances      Box(P          R      mAP50  mAP50-95): 100%|██████████| 2/2 [00:00<00:00, 11.10it/s]\n"
     ]
    },
    {
     "name": "stdout",
     "output_type": "stream",
     "text": [
      "                   all         50        493      0.457      0.234      0.271      0.152\n",
      "\n",
      "      Epoch    GPU_mem   box_loss   cls_loss   dfl_loss  Instances       Size\n"
     ]
    },
    {
     "name": "stderr",
     "output_type": "stream",
     "text": [
      "      43/50       8.6G      1.096     0.7123     0.9244         70        640: 100%|██████████| 13/13 [00:01<00:00,  8.39it/s]\n",
      "                 Class     Images  Instances      Box(P          R      mAP50  mAP50-95): 100%|██████████| 2/2 [00:00<00:00, 10.92it/s]"
     ]
    },
    {
     "name": "stdout",
     "output_type": "stream",
     "text": [
      "                   all         50        493      0.456      0.248      0.274      0.154\n"
     ]
    },
    {
     "name": "stderr",
     "output_type": "stream",
     "text": [
      "\n"
     ]
    },
    {
     "name": "stdout",
     "output_type": "stream",
     "text": [
      "\n",
      "      Epoch    GPU_mem   box_loss   cls_loss   dfl_loss  Instances       Size\n"
     ]
    },
    {
     "name": "stderr",
     "output_type": "stream",
     "text": [
      "      44/50       8.6G      1.065     0.6665     0.9039         84        640: 100%|██████████| 13/13 [00:01<00:00,  8.06it/s]\n",
      "                 Class     Images  Instances      Box(P          R      mAP50  mAP50-95): 100%|██████████| 2/2 [00:00<00:00, 11.13it/s]\n"
     ]
    },
    {
     "name": "stdout",
     "output_type": "stream",
     "text": [
      "                   all         50        493      0.539       0.26      0.312      0.168\n",
      "\n",
      "      Epoch    GPU_mem   box_loss   cls_loss   dfl_loss  Instances       Size\n"
     ]
    },
    {
     "name": "stderr",
     "output_type": "stream",
     "text": [
      "      45/50       8.6G      1.049     0.6692     0.9116         68        640: 100%|██████████| 13/13 [00:01<00:00,  8.35it/s]\n",
      "                 Class     Images  Instances      Box(P          R      mAP50  mAP50-95): 100%|██████████| 2/2 [00:00<00:00, 10.82it/s]"
     ]
    },
    {
     "name": "stdout",
     "output_type": "stream",
     "text": [
      "                   all         50        493      0.521      0.266      0.304      0.172\n"
     ]
    },
    {
     "name": "stderr",
     "output_type": "stream",
     "text": [
      "\n"
     ]
    },
    {
     "name": "stdout",
     "output_type": "stream",
     "text": [
      "\n",
      "      Epoch    GPU_mem   box_loss   cls_loss   dfl_loss  Instances       Size\n"
     ]
    },
    {
     "name": "stderr",
     "output_type": "stream",
     "text": [
      "      46/50       8.6G      1.038     0.6583     0.9107         62        640: 100%|██████████| 13/13 [00:01<00:00,  8.35it/s]\n",
      "                 Class     Images  Instances      Box(P          R      mAP50  mAP50-95): 100%|██████████| 2/2 [00:00<00:00, 10.65it/s]"
     ]
    },
    {
     "name": "stdout",
     "output_type": "stream",
     "text": [
      "                   all         50        493      0.425      0.309      0.282      0.158\n"
     ]
    },
    {
     "name": "stderr",
     "output_type": "stream",
     "text": [
      "\n"
     ]
    },
    {
     "name": "stdout",
     "output_type": "stream",
     "text": [
      "\n",
      "      Epoch    GPU_mem   box_loss   cls_loss   dfl_loss  Instances       Size\n"
     ]
    },
    {
     "name": "stderr",
     "output_type": "stream",
     "text": [
      "      47/50       8.6G      1.003     0.6287     0.8966         71        640: 100%|██████████| 13/13 [00:01<00:00,  8.33it/s]\n",
      "                 Class     Images  Instances      Box(P          R      mAP50  mAP50-95): 100%|██████████| 2/2 [00:00<00:00, 11.08it/s]\n"
     ]
    },
    {
     "name": "stdout",
     "output_type": "stream",
     "text": [
      "                   all         50        493      0.463      0.307      0.326      0.171\n",
      "\n",
      "      Epoch    GPU_mem   box_loss   cls_loss   dfl_loss  Instances       Size\n"
     ]
    },
    {
     "name": "stderr",
     "output_type": "stream",
     "text": [
      "      48/50       8.6G      1.006     0.6238     0.9056         73        640: 100%|██████████| 13/13 [00:01<00:00,  8.08it/s]\n",
      "                 Class     Images  Instances      Box(P          R      mAP50  mAP50-95): 100%|██████████| 2/2 [00:00<00:00, 10.98it/s]\n"
     ]
    },
    {
     "name": "stdout",
     "output_type": "stream",
     "text": [
      "                   all         50        493      0.549      0.298      0.337      0.178\n",
      "\n",
      "      Epoch    GPU_mem   box_loss   cls_loss   dfl_loss  Instances       Size\n"
     ]
    },
    {
     "name": "stderr",
     "output_type": "stream",
     "text": [
      "      49/50       8.6G      1.003     0.6272     0.8918         94        640: 100%|██████████| 13/13 [00:01<00:00,  8.37it/s]\n",
      "                 Class     Images  Instances      Box(P          R      mAP50  mAP50-95): 100%|██████████| 2/2 [00:00<00:00, 10.74it/s]"
     ]
    },
    {
     "name": "stdout",
     "output_type": "stream",
     "text": [
      "                   all         50        493      0.479      0.347      0.331      0.176\n"
     ]
    },
    {
     "name": "stderr",
     "output_type": "stream",
     "text": [
      "\n"
     ]
    },
    {
     "name": "stdout",
     "output_type": "stream",
     "text": [
      "\n",
      "      Epoch    GPU_mem   box_loss   cls_loss   dfl_loss  Instances       Size\n"
     ]
    },
    {
     "name": "stderr",
     "output_type": "stream",
     "text": [
      "      50/50       8.6G      1.018     0.6326     0.8987         84        640: 100%|██████████| 13/13 [00:01<00:00,  8.23it/s]\n",
      "                 Class     Images  Instances      Box(P          R      mAP50  mAP50-95): 100%|██████████| 2/2 [00:00<00:00, 10.85it/s]"
     ]
    },
    {
     "name": "stdout",
     "output_type": "stream",
     "text": [
      "                   all         50        493      0.484      0.347      0.333      0.174\n"
     ]
    },
    {
     "name": "stderr",
     "output_type": "stream",
     "text": [
      "\n"
     ]
    },
    {
     "name": "stdout",
     "output_type": "stream",
     "text": [
      "\n",
      "50 epochs completed in 0.043 hours.\n",
      "Optimizer stripped from snow_domain_adaptation/v1_finetune_default/weights/last.pt, 40.5MB\n",
      "Optimizer stripped from snow_domain_adaptation/v1_finetune_default/weights/best.pt, 40.5MB\n",
      "\n",
      "Validating snow_domain_adaptation/v1_finetune_default/weights/best.pt...\n",
      "Ultralytics 8.3.129 🚀 Python-3.10.16 torch-2.7.0+cu126 CUDA:0 (NVIDIA GeForce RTX 4090, 24217MiB)\n",
      "YOLO11m summary (fused): 125 layers, 20,036,200 parameters, 0 gradients, 67.7 GFLOPs\n"
     ]
    },
    {
     "name": "stderr",
     "output_type": "stream",
     "text": [
      "                 Class     Images  Instances      Box(P          R      mAP50  mAP50-95): 100%|██████████| 2/2 [00:00<00:00,  8.97it/s]\n"
     ]
    },
    {
     "name": "stdout",
     "output_type": "stream",
     "text": [
      "                   all         50        493      0.548      0.298      0.337      0.178\n",
      "                person         31        119      0.545      0.286      0.301       0.14\n",
      "                 rider         12         13      0.675      0.308      0.366      0.153\n",
      "                   car         46        297      0.752      0.485       0.57      0.332\n",
      "                 truck          5          5          0          0          0          0\n",
      "                   bus          3          5          1      0.582      0.677      0.397\n",
      "                 train         11         11      0.705      0.437      0.479      0.248\n",
      "            motorcycle         10         10      0.202        0.2      0.201      0.106\n",
      "               bicycle         18         33      0.502     0.0909      0.106     0.0479\n",
      "Speed: 0.1ms preprocess, 0.9ms inference, 0.0ms loss, 0.9ms postprocess per image\n",
      "Results saved to \u001b[1msnow_domain_adaptation/v1_finetune_default\u001b[0m\n",
      "\u001b[34m\u001b[1mUltralytics HUB: \u001b[0mSyncing final model...\n"
     ]
    },
    {
     "name": "stderr",
     "output_type": "stream",
     "text": [
      "100%|██████████| 38.6M/38.6M [00:05<00:00, 7.64MB/s]"
     ]
    },
    {
     "name": "stdout",
     "output_type": "stream",
     "text": [
      "\u001b[34m\u001b[1mUltralytics HUB: \u001b[0mDone ✅\n",
      "\u001b[34m\u001b[1mUltralytics HUB: \u001b[0mView model at https://hub.ultralytics.com/models/sZgJJwYJ5KpXk2sZkAyW 🚀\n"
     ]
    },
    {
     "name": "stderr",
     "output_type": "stream",
     "text": [
      "\n"
     ]
    }
   ],
   "source": [
    "# Initialize model from pre-trained weights\n",
    "v1_model = YOLO('yolo11m.pt')  # Use the appropriate pre-trained model variant\n",
    "\n",
    "# Path to generated snow dataset\n",
    "snow_train_data = DATASETS[\"generated_snow\"] + \"/data.yaml\"\n",
    "\n",
    "# Start training with default settings\n",
    "print(\"Starting V1 fine-tuning on generated snow dataset...\")\n",
    "v1_results = v1_model.train(\n",
    "    data=snow_train_data,\n",
    "    epochs=50,\n",
    "    imgsz=640,  # Updated to use integer\n",
    "    batch=16,\n",
    "    patience=20,\n",
    "    project=\"snow_domain_adaptation\",\n",
    "    name=\"v1_finetune_default\",\n",
    "    pretrained=True,\n",
    "    # optimizer=\"Adam\",\n",
    "    # lr0=0.001,\n",
    "    device=0,  # Set to appropriate device (0 for first GPU, 'cpu' for CPU)\n",
    "    save=True,\n",
    "    resume=False,\n",
    "    # hub=True,  # Enable Hub logging\n",
    "    plots=True\n",
    ")"
   ]
  },
  {
   "cell_type": "markdown",
   "id": "946f2927",
   "metadata": {},
   "source": [
    "### V1 Model Evaluation\n",
    "\n",
    "After training the V1 model, we evaluate its performance on the snow validation dataset to understand the impact of our simple fine-tuning approach."
   ]
  },
  {
   "cell_type": "code",
   "execution_count": 7,
   "id": "0a5a786f",
   "metadata": {},
   "outputs": [
    {
     "name": "stdout",
     "output_type": "stream",
     "text": [
      "Evaluating V1 fine-tuned model on snow dataset...\n",
      "WARNING ⚠️ updating to 'imgsz=1920'. 'train' and 'val' imgsz must be an integer, while 'predict' and 'export' imgsz may be a [h, w] list or an integer, i.e. 'yolo export imgsz=640,480' or 'yolo export imgsz=640'\n",
      "Ultralytics 8.3.129 🚀 Python-3.10.16 torch-2.7.0+cu126 CUDA:0 (NVIDIA GeForce RTX 4090, 24217MiB)\n",
      "YOLO11m summary (fused): 125 layers, 20,036,200 parameters, 0 gradients, 67.7 GFLOPs\n",
      "\u001b[34m\u001b[1mval: \u001b[0mFast image access ✅ (ping: 0.0±0.0 ms, read: 6899.0±1077.0 MB/s, size: 3300.1 KB)\n"
     ]
    },
    {
     "name": "stderr",
     "output_type": "stream",
     "text": [
      "\u001b[34m\u001b[1mval: \u001b[0mScanning /mnt3/peter/finetune/task2_datasets/YOLO_generated/labels/val.cache... 50 images, 0 backgrounds, 0 corrupt: 100%|██████████| 50/50 [00:00<?, ?it/s]\n",
      "                 Class     Images  Instances      Box(P          R      mAP50  mAP50-95): 100%|██████████| 4/4 [00:04<00:00,  1.02s/it]\n"
     ]
    },
    {
     "name": "stdout",
     "output_type": "stream",
     "text": [
      "                   all         50        493      0.493      0.256      0.392      0.202\n",
      "                person         31        119      0.506      0.345      0.463      0.246\n",
      "                 rider         12         13        0.3      0.231       0.24     0.0716\n",
      "                   car         46        297      0.682      0.461      0.611      0.412\n",
      "                 truck          5          5          0          0          0          0\n",
      "                   bus          3          5          1        0.2        0.6       0.18\n",
      "                 train         11         11        0.8      0.364      0.618       0.37\n",
      "            motorcycle         10         10        0.2        0.3      0.292       0.13\n",
      "               bicycle         18         33      0.455      0.152      0.314       0.21\n",
      "Speed: 22.7ms preprocess, 16.1ms inference, 0.0ms loss, 0.7ms postprocess per image\n",
      "Saving snow_domain_adaptation/v1_evaluation/validation/predictions.json...\n",
      "Results saved to \u001b[1msnow_domain_adaptation/v1_evaluation/validation\u001b[0m\n",
      "\n",
      "V1 Fine-tuned Model Metrics:\n",
      "mAP50: 0.3922\n",
      "mAP50-95: 0.2025\n",
      "Precision: 0.4928\n",
      "Recall: 0.2565\n"
     ]
    },
    {
     "data": {
      "image/png": "[encoded data removed]",
      "text/plain": [
       "<Figure size 1200x1000 with 2 Axes>"
      ]
     },
     "metadata": {},
     "output_type": "display_data"
    },
    {
     "name": "stdout",
     "output_type": "stream",
     "text": [
      "\n",
      "V1 Fine-tuned Model Per-Class Metrics:\n",
      "        Class      AP50        AP  Precision    Recall\n",
      "0      person  0.462574  0.246498   0.506173  0.344538\n",
      "1       rider  0.239781  0.071631   0.300000  0.230769\n",
      "2         car  0.611015  0.412179   0.681592  0.461279\n",
      "3       truck  0.000000  0.000000   0.000000  0.000000\n",
      "4         bus  0.600000  0.180000   1.000000  0.200000\n",
      "5       train  0.618440  0.369674   0.800000  0.363636\n",
      "6  motorcycle  0.292250  0.130200   0.200000  0.300000\n",
      "7     bicycle  0.313523  0.209501   0.454545  0.151515\n"
     ]
    }
   ],
   "source": [
    "# Load the best model after training\n",
    "v1_best_model = YOLO(os.path.join(\"snow_domain_adaptation\", \"v1_finetune_default\", \"weights\", \"best.pt\"))\n",
    "\n",
    "# Evaluate fine-tuned model on snow validation dataset\n",
    "print(\"Evaluating V1 fine-tuned model on snow dataset...\")\n",
    "v1_val_results = evaluate_model(\n",
    "    v1_best_model, \n",
    "    snow_val_data, \n",
    "    project_name=\"snow_domain_adaptation/v1_evaluation\"\n",
    ")\n",
    "\n",
    "# Extract and display metrics\n",
    "v1_metrics = extract_metrics(v1_val_results)\n",
    "print(\"\\nV1 Fine-tuned Model Metrics:\")\n",
    "for metric, value in v1_metrics.items():\n",
    "    print(f\"{metric}: {value:.4f}\")\n",
    "\n",
    "# Plot confusion matrix\n",
    "plot_confusion_matrix(v1_val_results, class_names, \"V1 Fine-tuned Model\")\n",
    "\n",
    "# Extract per-class metrics\n",
    "v1_class_metrics = collect_metrics_by_class(v1_val_results, class_names)\n",
    "print(\"\\nV1 Fine-tuned Model Per-Class Metrics:\")\n",
    "print(v1_class_metrics)"
   ]
  },
  {
   "cell_type": "code",
   "execution_count": 8,
   "id": "e4235c91",
   "metadata": {},
   "outputs": [
    {
     "name": "stdout",
     "output_type": "stream",
     "text": [
      "CUDA memory freed after V1 training and evaluation\n"
     ]
    }
   ],
   "source": [
    "\n",
    "\n",
    "# Free CUDA memory after V1 training\n",
    "v1_model.model = v1_model.model.cpu()  # Move model to CPU\n",
    "v1_best_model.model = v1_best_model.model.cpu()  # Move best model to CPU\n",
    "del v1_model  # Delete the training model\n",
    "del v1_val_results  # Delete validation results\n",
    "gc.collect()  # Run garbage collector\n",
    "torch.cuda.empty_cache()  # Clear CUDA cache\n",
    "print(\"CUDA memory freed after V1 training and evaluation\")\n"
   ]
  },
  {
   "cell_type": "markdown",
   "id": "e346531c",
   "metadata": {},
   "source": [
    "## 5. V2: Advanced Fine-tuning with Curriculum Learning and Original Resolution\n",
    "\n",
    "Now, we'll implement our advanced fine-tuning strategy using curriculum learning across three phases, but with a key improvement - using the original image resolution (1920×1080) to preserve spatial relationships and fine details. This is particularly important for snow domain adaptation, where small details can be easily obscured.\n",
    "\n",
    "1. **Warm-up Phase**: Initial training on clear-weather images at full resolution to establish a baseline\n",
    "2. **Main Fine-tuning Phase**: Training on a mixed dataset of clear, synthetic snow, and real snow images with extensive augmentation, using rectangular training to maintain aspect ratio\n",
    "3. **Alignment Phase**: Final fine-tuning on real data only (clear + real snow, no synthetics) to reduce CycleGAN artifacts\n",
    "\n",
    "This approach is designed to gradually adapt the model to the snow domain while maintaining its performance on clear weather conditions, with the added benefit of preserving spatial information and fine details that might be critical for detection in challenging snow conditions.\n",
    "\n",
    "### Preparing Combined Datasets\n",
    "\n",
    "First, we'll create custom dataset configurations for our curriculum learning approach."
   ]
  },
  {
   "cell_type": "code",
   "execution_count": 9,
   "id": "46ed10fb",
   "metadata": {},
   "outputs": [
    {
     "name": "stdout",
     "output_type": "stream",
     "text": [
      "Weighted dataset YAML:\n",
      "names:\n",
      "- person\n",
      "- rider\n",
      "- car\n",
      "- truck\n",
      "- bus\n",
      "- train\n",
      "- motorcycle\n",
      "- bicycle\n",
      "nc: 8\n",
      "path: ./\n",
      "train:\n",
      "- ./task2_datasets/YOLO_generated/images/train\n",
      "- ./task2_datasets/YOLO_original_snow/images/train\n",
      "val: ./task2_datasets/YOLO_generated/images/val\n",
      "\n"
     ]
    }
   ],
   "source": [
    "from pathlib import Path\n",
    "import yaml, os\n",
    "\n",
    "# Initialize model from pre-trained weights\n",
    "v2_model = YOLO('yolo11m.pt')  # Use the appropriate pre-trained model variant\n",
    "\n",
    "# Define paths to all datasets\n",
    "original_data = DATASETS[\"original\"] + \"/data.yaml\"\n",
    "snow_generated_data = DATASETS[\"generated_snow\"] + \"/data.yaml\"\n",
    "real_snow_data = DATASETS[\"real_snow\"] + \"/data.yaml\"\n",
    "\n",
    "# Create a combined dataset configuration for curriculum learning\n",
    "# This requires creating a new data.yaml file that includes all datasets\n",
    "combined_data_yaml = {\n",
    "    \"path\": \"./\",  # Use relative path as base\n",
    "    \"train\": [  \n",
    "        f\"{os.path.join(DATASETS['generated_snow'], 'images/train')}\", \n",
    "        f\"{os.path.join(DATASETS['real_snow'], 'images/train')}\"    \n",
    "    ],\n",
    "    \"val\": os.path.join(DATASETS[\"generated_snow\"], \"images/val\"),\n",
    "    \"names\": data_configs[\"generated_snow\"][\"names\"],\n",
    "    \"nc\": len(data_configs[\"generated_snow\"][\"names\"])\n",
    "}\n",
    "\n",
    "# Save combined data.yaml\n",
    "os.makedirs(\"/tmp/weighted_snow_dataset\", exist_ok=True)\n",
    "weighted_data_path = os.path.join(\"/tmp/weighted_snow_dataset\", \"data.yaml\")\n",
    "with open(weighted_data_path, 'w') as file:\n",
    "    yaml.dump(combined_data_yaml, file)\n",
    "\n",
    "# Print YAML for verification\n",
    "print(\"Weighted dataset YAML:\")\n",
    "with open(weighted_data_path, 'r') as file:\n",
    "    print(file.read())\n",
    "\n"
   ]
  },
  {
   "cell_type": "markdown",
   "id": "5ec3268e",
   "metadata": {},
   "source": [
    "### Phase 1: Warm-up at Original Resolution\n",
    "\n",
    "The warm-up phase trains the model on original clear-weather images at full resolution (1920×1080) for a few epochs to establish a good baseline. By using the original resolution, we ensure that the model can learn from all available details in the images."
   ]
  },
  {
   "cell_type": "code",
   "execution_count": 10,
   "id": "d9d14ef4",
   "metadata": {},
   "outputs": [
    {
     "name": "stdout",
     "output_type": "stream",
     "text": [
      "Starting V2 Phase 1: Warm-up on original clear-weather images...\n",
      "New https://pypi.org/project/ultralytics/8.3.130 available 😃 Update with 'pip install -U ultralytics'\n",
      "Ultralytics 8.3.129 🚀 Python-3.10.16 torch-2.7.0+cu126 CUDA:0 (NVIDIA GeForce RTX 4090, 24217MiB)\n",
      "\u001b[34m\u001b[1mengine/trainer: \u001b[0magnostic_nms=False, amp=True, augment=False, auto_augment=randaugment, batch=4, bgr=0.0, box=7.5, cache=False, cfg=None, classes=None, close_mosaic=10, cls=0.5, conf=None, copy_paste=0.0, copy_paste_mode=flip, cos_lr=False, cutmix=0.0, data=./task2_datasets/YOLO_original/data.yaml, degrees=0.0, deterministic=True, device=0, dfl=1.5, dnn=False, dropout=0.0, dynamic=False, embed=None, epochs=3, erasing=0.4, exist_ok=False, fliplr=0.5, flipud=0.0, format=torchscript, fraction=1.0, freeze=False, half=False, hsv_h=0.015, hsv_s=0.7, hsv_v=0.4, imgsz=[1920, 1080], int8=False, iou=0.7, keras=False, kobj=1.0, line_width=None, lr0=0.0001, lrf=0.01, mask_ratio=4, max_det=300, mixup=0.0, mode=train, model=yolo11m.pt, momentum=0.937, mosaic=1.0, multi_scale=False, name=v2_p1_warmup, nbs=64, nms=False, opset=None, optimize=False, optimizer=auto, overlap_mask=True, patience=100, perspective=0.0, plots=True, pose=12.0, pretrained=True, profile=False, project=snow_domain_adaptation, rect=False, resume=False, retina_masks=False, save=True, save_conf=False, save_crop=False, save_dir=snow_domain_adaptation/v2_p1_warmup, save_frames=False, save_json=False, save_period=-1, save_txt=False, scale=0.5, seed=0, shear=0.0, show=False, show_boxes=True, show_conf=True, show_labels=True, simplify=True, single_cls=False, source=None, split=val, stream_buffer=False, task=detect, time=None, tracker=botsort.yaml, translate=0.1, val=True, verbose=True, vid_stride=1, visualize=False, warmup_bias_lr=0.1, warmup_epochs=3.0, warmup_momentum=0.8, weight_decay=0.0005, workers=8, workspace=None\n",
      "Overriding model.yaml nc=80 with nc=8\n",
      "\n",
      "                   from  n    params  module                                       arguments                     \n",
      "  0                  -1  1      1856  ultralytics.nn.modules.conv.Conv             [3, 64, 3, 2]                 \n",
      "  1                  -1  1     73984  ultralytics.nn.modules.conv.Conv             [64, 128, 3, 2]               \n",
      "  2                  -1  1    111872  ultralytics.nn.modules.block.C3k2            [128, 256, 1, True, 0.25]     \n",
      "  3                  -1  1    590336  ultralytics.nn.modules.conv.Conv             [256, 256, 3, 2]              \n",
      "  4                  -1  1    444928  ultralytics.nn.modules.block.C3k2            [256, 512, 1, True, 0.25]     \n",
      "  5                  -1  1   2360320  ultralytics.nn.modules.conv.Conv             [512, 512, 3, 2]              \n",
      "  6                  -1  1   1380352  ultralytics.nn.modules.block.C3k2            [512, 512, 1, True]           \n",
      "  7                  -1  1   2360320  ultralytics.nn.modules.conv.Conv             [512, 512, 3, 2]              \n",
      "  8                  -1  1   1380352  ultralytics.nn.modules.block.C3k2            [512, 512, 1, True]           \n",
      "  9                  -1  1    656896  ultralytics.nn.modules.block.SPPF            [512, 512, 5]                 \n",
      " 10                  -1  1    990976  ultralytics.nn.modules.block.C2PSA           [512, 512, 1]                 \n",
      " 11                  -1  1         0  torch.nn.modules.upsampling.Upsample         [None, 2, 'nearest']          \n",
      " 12             [-1, 6]  1         0  ultralytics.nn.modules.conv.Concat           [1]                           \n",
      " 13                  -1  1   1642496  ultralytics.nn.modules.block.C3k2            [1024, 512, 1, True]          \n",
      " 14                  -1  1         0  torch.nn.modules.upsampling.Upsample         [None, 2, 'nearest']          \n",
      " 15             [-1, 4]  1         0  ultralytics.nn.modules.conv.Concat           [1]                           \n",
      " 16                  -1  1    542720  ultralytics.nn.modules.block.C3k2            [1024, 256, 1, True]          \n",
      " 17                  -1  1    590336  ultralytics.nn.modules.conv.Conv             [256, 256, 3, 2]              \n",
      " 18            [-1, 13]  1         0  ultralytics.nn.modules.conv.Concat           [1]                           \n",
      " 19                  -1  1   1511424  ultralytics.nn.modules.block.C3k2            [768, 512, 1, True]           \n",
      " 20                  -1  1   2360320  ultralytics.nn.modules.conv.Conv             [512, 512, 3, 2]              \n",
      " 21            [-1, 10]  1         0  ultralytics.nn.modules.conv.Concat           [1]                           \n",
      " 22                  -1  1   1642496  ultralytics.nn.modules.block.C3k2            [1024, 512, 1, True]          \n",
      " 23        [16, 19, 22]  1   1417192  ultralytics.nn.modules.head.Detect           [8, [256, 512, 512]]          \n",
      "YOLO11m summary: 231 layers, 20,059,176 parameters, 20,059,160 gradients, 68.2 GFLOPs\n",
      "\n",
      "Transferred 643/649 items from pretrained weights\n",
      "\u001b[34m\u001b[1mUltralytics HUB: \u001b[0mView model at https://hub.ultralytics.com/models/Gf7q1a77wr4Y9HS9RSWd 🚀\n",
      "Freezing layer 'model.23.dfl.conv.weight'\n",
      "\u001b[34m\u001b[1mAMP: \u001b[0mrunning Automatic Mixed Precision (AMP) checks...\n",
      "\u001b[34m\u001b[1mAMP: \u001b[0mchecks passed ✅\n",
      "WARNING ⚠️ updating to 'imgsz=1920'. 'train' and 'val' imgsz must be an integer, while 'predict' and 'export' imgsz may be a [h, w] list or an integer, i.e. 'yolo export imgsz=640,480' or 'yolo export imgsz=640'\n",
      "\u001b[34m\u001b[1mtrain: \u001b[0mFast image access ✅ (ping: 0.0±0.0 ms, read: 5270.3±154.2 MB/s, size: 2408.0 KB)\n"
     ]
    },
    {
     "name": "stderr",
     "output_type": "stream",
     "text": [
      "\u001b[34m\u001b[1mtrain: \u001b[0mScanning /mnt3/peter/finetune/task2_datasets/YOLO_original/labels/train... 200 images, 0 backgrounds, 0 corrupt: 100%|██████████| 200/200 [00:02<00:00, 68.70it/s]"
     ]
    },
    {
     "name": "stdout",
     "output_type": "stream",
     "text": [
      "\u001b[34m\u001b[1mtrain: \u001b[0mNew cache created: /mnt3/peter/finetune/task2_datasets/YOLO_original/labels/train.cache\n"
     ]
    },
    {
     "name": "stderr",
     "output_type": "stream",
     "text": [
      "\n"
     ]
    },
    {
     "name": "stdout",
     "output_type": "stream",
     "text": [
      "\u001b[34m\u001b[1mval: \u001b[0mFast image access ✅ (ping: 0.0±0.0 ms, read: 2781.3±2501.9 MB/s, size: 1859.3 KB)\n"
     ]
    },
    {
     "name": "stderr",
     "output_type": "stream",
     "text": [
      "\u001b[34m\u001b[1mval: \u001b[0mScanning /mnt3/peter/finetune/task2_datasets/YOLO_original/labels/val.cache... 50 images, 0 backgrounds, 0 corrupt: 100%|██████████| 50/50 [00:00<?, ?it/s]\n"
     ]
    },
    {
     "name": "stdout",
     "output_type": "stream",
     "text": [
      "Plotting labels to snow_domain_adaptation/v2_p1_warmup/labels.jpg... \n",
      "\u001b[34m\u001b[1moptimizer:\u001b[0m 'optimizer=auto' found, ignoring 'lr0=0.0001' and 'momentum=0.937' and determining best 'optimizer', 'lr0' and 'momentum' automatically... \n",
      "\u001b[34m\u001b[1moptimizer:\u001b[0m AdamW(lr=0.000833, momentum=0.9) with parameter groups 106 weight(decay=0.0), 113 weight(decay=0.0005), 112 bias(decay=0.0)\n",
      "Image sizes 1920 train, 1920 val\n",
      "Using 8 dataloader workers\n",
      "Logging results to \u001b[1msnow_domain_adaptation/v2_p1_warmup\u001b[0m\n",
      "Starting training for 3 epochs...\n",
      "\n",
      "      Epoch    GPU_mem   box_loss   cls_loss   dfl_loss  Instances       Size\n"
     ]
    },
    {
     "name": "stderr",
     "output_type": "stream",
     "text": [
      "        1/3      19.1G      1.241      3.514      1.105        100       1920: 100%|██████████| 50/50 [00:15<00:00,  3.32it/s]\n",
      "                 Class     Images  Instances      Box(P          R      mAP50  mAP50-95): 100%|██████████| 7/7 [00:00<00:00,  7.12it/s]"
     ]
    },
    {
     "name": "stdout",
     "output_type": "stream",
     "text": [
      "                   all         50        637      0.632      0.247      0.271      0.152\n"
     ]
    },
    {
     "name": "stderr",
     "output_type": "stream",
     "text": [
      "\n"
     ]
    },
    {
     "name": "stdout",
     "output_type": "stream",
     "text": [
      "\n",
      "      Epoch    GPU_mem   box_loss   cls_loss   dfl_loss  Instances       Size\n"
     ]
    },
    {
     "name": "stderr",
     "output_type": "stream",
     "text": [
      "        2/3      19.2G      1.266      2.088      1.135         85       1920: 100%|██████████| 50/50 [00:13<00:00,  3.64it/s]\n",
      "                 Class     Images  Instances      Box(P          R      mAP50  mAP50-95): 100%|██████████| 7/7 [00:00<00:00,  9.90it/s]"
     ]
    },
    {
     "name": "stdout",
     "output_type": "stream",
     "text": [
      "                   all         50        637      0.433      0.296      0.327      0.201\n"
     ]
    },
    {
     "name": "stderr",
     "output_type": "stream",
     "text": [
      "\n"
     ]
    },
    {
     "name": "stdout",
     "output_type": "stream",
     "text": [
      "\n",
      "      Epoch    GPU_mem   box_loss   cls_loss   dfl_loss  Instances       Size\n"
     ]
    },
    {
     "name": "stderr",
     "output_type": "stream",
     "text": [
      "        3/3      19.4G      1.225      1.634      1.103         62       1920: 100%|██████████| 50/50 [00:13<00:00,  3.64it/s]\n",
      "                 Class     Images  Instances      Box(P          R      mAP50  mAP50-95): 100%|██████████| 7/7 [00:00<00:00, 10.09it/s]"
     ]
    },
    {
     "name": "stdout",
     "output_type": "stream",
     "text": [
      "                   all         50        637      0.482      0.317      0.361      0.208\n"
     ]
    },
    {
     "name": "stderr",
     "output_type": "stream",
     "text": [
      "\n"
     ]
    },
    {
     "name": "stdout",
     "output_type": "stream",
     "text": [
      "\n",
      "3 epochs completed in 0.014 hours.\n",
      "Optimizer stripped from snow_domain_adaptation/v2_p1_warmup/weights/last.pt, 40.7MB\n",
      "Optimizer stripped from snow_domain_adaptation/v2_p1_warmup/weights/best.pt, 40.7MB\n",
      "\n",
      "Validating snow_domain_adaptation/v2_p1_warmup/weights/best.pt...\n",
      "Ultralytics 8.3.129 🚀 Python-3.10.16 torch-2.7.0+cu126 CUDA:0 (NVIDIA GeForce RTX 4090, 24217MiB)\n",
      "YOLO11m summary (fused): 125 layers, 20,036,200 parameters, 0 gradients, 67.7 GFLOPs\n"
     ]
    },
    {
     "name": "stderr",
     "output_type": "stream",
     "text": [
      "                 Class     Images  Instances      Box(P          R      mAP50  mAP50-95): 100%|██████████| 7/7 [00:01<00:00,  5.72it/s]\n"
     ]
    },
    {
     "name": "stdout",
     "output_type": "stream",
     "text": [
      "                   all         50        637       0.49      0.325      0.363      0.208\n",
      "                person         34        165      0.793      0.509      0.631      0.362\n",
      "                 rider         20         32      0.254      0.281      0.235      0.115\n",
      "                   car         48        356      0.829      0.601      0.728      0.479\n",
      "                 truck          5          5          0          0    0.00963    0.00244\n",
      "                   bus          3          5      0.725        0.2      0.329      0.236\n",
      "                 train         11         11      0.534      0.545      0.582      0.283\n",
      "            motorcycle         16         16      0.275       0.25      0.156     0.0484\n",
      "               bicycle         22         47       0.51      0.213       0.23       0.14\n",
      "Speed: 0.9ms preprocess, 10.3ms inference, 0.0ms loss, 4.7ms postprocess per image\n",
      "Results saved to \u001b[1msnow_domain_adaptation/v2_p1_warmup\u001b[0m\n",
      "\u001b[34m\u001b[1mUltralytics HUB: \u001b[0mSyncing final model...\n"
     ]
    },
    {
     "name": "stderr",
     "output_type": "stream",
     "text": [
      "100%|██████████| 38.8M/38.8M [00:06<00:00, 6.66MB/s]"
     ]
    },
    {
     "name": "stdout",
     "output_type": "stream",
     "text": [
      "\u001b[34m\u001b[1mUltralytics HUB: \u001b[0mDone ✅\n",
      "\u001b[34m\u001b[1mUltralytics HUB: \u001b[0mView model at https://hub.ultralytics.com/models/Gf7q1a77wr4Y9HS9RSWd 🚀\n"
     ]
    },
    {
     "name": "stderr",
     "output_type": "stream",
     "text": [
      "\n"
     ]
    }
   ],
   "source": [
    "# Phase 1: Warm-up on clear-weather (original) images for 2-3 epochs\n",
    "print(\"Starting V2 Phase 1: Warm-up on original clear-weather images...\")\n",
    "v2_p1_results = v2_model.train(\n",
    "    data=original_data,\n",
    "    pretrained=True,\n",
    "    epochs=3,\n",
    "    imgsz=[1920, 1080],  # Using original image size to preserve details\n",
    "    batch=4,  # Reduced batch size to accommodate larger images\n",
    "    lr0=0.0001,  # 0.1× the default\n",
    "    project=\"snow_domain_adaptation\",\n",
    "    name=\"v2_p1_warmup\",\n",
    "    # optimizer=\"SGD\",\n",
    "    freeze=False,  # All layers unfrozen\n",
    "    device=0,\n",
    "    save=True,\n",
    "    resume=False,\n",
    "    # hub=True,  # Enable Hub logging\n",
    "    plots=True\n",
    ")"
   ]
  },
  {
   "cell_type": "code",
   "execution_count": null,
   "id": "90c25e04",
   "metadata": {},
   "outputs": [
    {
     "name": "stdout",
     "output_type": "stream",
     "text": [
      "CUDA memory freed after V2 Phase 1\n"
     ]
    }
   ],
   "source": [
    "# clean up\n",
    "v2_model.model = v2_model.model.cpu()\n",
    "del v2_model  # Delete the training model\n",
    "gc.collect()\n",
    "torch.cuda.empty_cache()\n",
    "print(\"CUDA memory freed after V2 Phase 1\")"
   ]
  },
  {
   "cell_type": "markdown",
   "id": "dbc556cf",
   "metadata": {},
   "source": [
    "### Phase 2: Main Fine-tuning with Aspect Ratio Preservation\n",
    "\n",
    "The main fine-tuning phase trains the model on a combination of all datasets with extensive data augmentation, maintaining the original aspect ratio with `rect=True`. This helps preserve the spatial relationships between objects, which is particularly important in snowy conditions where object boundaries may be obscured."
   ]
  },
  {
   "cell_type": "code",
   "execution_count": 12,
   "id": "a1f96d86",
   "metadata": {},
   "outputs": [
    {
     "name": "stdout",
     "output_type": "stream",
     "text": [
      "Starting V2 Phase 2: Main fine-tuning on mixed data...\n",
      "New https://pypi.org/project/ultralytics/8.3.130 available 😃 Update with 'pip install -U ultralytics'\n",
      "Ultralytics 8.3.129 🚀 Python-3.10.16 torch-2.7.0+cu126 CUDA:0 (NVIDIA GeForce RTX 4090, 24217MiB)\n",
      "\u001b[34m\u001b[1mengine/trainer: \u001b[0magnostic_nms=False, amp=True, augment=True, auto_augment=randaugment, batch=4, bgr=0.0, box=1.2, cache=False, cfg=None, classes=None, close_mosaic=10, cls=0.3, conf=None, copy_paste=0.0, copy_paste_mode=flip, cos_lr=True, cutmix=0.0, data=/tmp/weighted_snow_dataset/data.yaml, degrees=10, deterministic=True, device=0, dfl=1.5, dnn=False, dropout=0.0, dynamic=False, embed=None, epochs=40, erasing=0.4, exist_ok=False, fliplr=0.5, flipud=0.0, format=torchscript, fraction=1.0, freeze=None, half=False, hsv_h=0.15, hsv_s=0.7, hsv_v=0.4, imgsz=[1920, 1080], int8=False, iou=0.7, keras=False, kobj=1.0, line_width=None, lr0=0.0001, lrf=0.01, mask_ratio=4, max_det=300, mixup=0.25, mode=train, model=snow_domain_adaptation/v2_p1_warmup/weights/best.pt, momentum=0.937, mosaic=0.5, multi_scale=False, name=v2_p2_main, nbs=64, nms=False, opset=None, optimize=False, optimizer=auto, overlap_mask=True, patience=100, perspective=0.0005, plots=True, pose=12.0, pretrained=True, profile=False, project=snow_domain_adaptation, rect=True, resume=False, retina_masks=False, save=True, save_conf=False, save_crop=False, save_dir=snow_domain_adaptation/v2_p2_main, save_frames=False, save_json=False, save_period=-1, save_txt=False, scale=0.5, seed=0, shear=0.0, show=False, show_boxes=True, show_conf=True, show_labels=True, simplify=True, single_cls=False, source=None, split=val, stream_buffer=False, task=detect, time=None, tracker=botsort.yaml, translate=0.2, val=True, verbose=True, vid_stride=1, visualize=False, warmup_bias_lr=0.1, warmup_epochs=3.0, warmup_momentum=0.8, weight_decay=0.0005, workers=8, workspace=None\n",
      "\n",
      "                   from  n    params  module                                       arguments                     \n",
      "  0                  -1  1      1856  ultralytics.nn.modules.conv.Conv             [3, 64, 3, 2]                 \n",
      "  1                  -1  1     73984  ultralytics.nn.modules.conv.Conv             [64, 128, 3, 2]               \n",
      "  2                  -1  1    111872  ultralytics.nn.modules.block.C3k2            [128, 256, 1, True, 0.25]     \n",
      "  3                  -1  1    590336  ultralytics.nn.modules.conv.Conv             [256, 256, 3, 2]              \n",
      "  4                  -1  1    444928  ultralytics.nn.modules.block.C3k2            [256, 512, 1, True, 0.25]     \n",
      "  5                  -1  1   2360320  ultralytics.nn.modules.conv.Conv             [512, 512, 3, 2]              \n",
      "  6                  -1  1   1380352  ultralytics.nn.modules.block.C3k2            [512, 512, 1, True]           \n",
      "  7                  -1  1   2360320  ultralytics.nn.modules.conv.Conv             [512, 512, 3, 2]              \n",
      "  8                  -1  1   1380352  ultralytics.nn.modules.block.C3k2            [512, 512, 1, True]           \n",
      "  9                  -1  1    656896  ultralytics.nn.modules.block.SPPF            [512, 512, 5]                 \n",
      " 10                  -1  1    990976  ultralytics.nn.modules.block.C2PSA           [512, 512, 1]                 \n",
      " 11                  -1  1         0  torch.nn.modules.upsampling.Upsample         [None, 2, 'nearest']          \n",
      " 12             [-1, 6]  1         0  ultralytics.nn.modules.conv.Concat           [1]                           \n",
      " 13                  -1  1   1642496  ultralytics.nn.modules.block.C3k2            [1024, 512, 1, True]          \n",
      " 14                  -1  1         0  torch.nn.modules.upsampling.Upsample         [None, 2, 'nearest']          \n",
      " 15             [-1, 4]  1         0  ultralytics.nn.modules.conv.Concat           [1]                           \n",
      " 16                  -1  1    542720  ultralytics.nn.modules.block.C3k2            [1024, 256, 1, True]          \n",
      " 17                  -1  1    590336  ultralytics.nn.modules.conv.Conv             [256, 256, 3, 2]              \n",
      " 18            [-1, 13]  1         0  ultralytics.nn.modules.conv.Concat           [1]                           \n",
      " 19                  -1  1   1511424  ultralytics.nn.modules.block.C3k2            [768, 512, 1, True]           \n",
      " 20                  -1  1   2360320  ultralytics.nn.modules.conv.Conv             [512, 512, 3, 2]              \n",
      " 21            [-1, 10]  1         0  ultralytics.nn.modules.conv.Concat           [1]                           \n",
      " 22                  -1  1   1642496  ultralytics.nn.modules.block.C3k2            [1024, 512, 1, True]          \n",
      " 23        [16, 19, 22]  1   1417192  ultralytics.nn.modules.head.Detect           [8, [256, 512, 512]]          \n",
      "YOLO11m summary: 231 layers, 20,059,176 parameters, 20,059,160 gradients, 68.2 GFLOPs\n",
      "\n",
      "Transferred 649/649 items from pretrained weights\n",
      "\u001b[34m\u001b[1mUltralytics HUB: \u001b[0mView model at https://hub.ultralytics.com/models/v01ntoMk8RY8pO35spX5 🚀\n",
      "Freezing layer 'model.23.dfl.conv.weight'\n",
      "\u001b[34m\u001b[1mAMP: \u001b[0mrunning Automatic Mixed Precision (AMP) checks...\n",
      "\u001b[34m\u001b[1mAMP: \u001b[0mchecks passed ✅\n",
      "WARNING ⚠️ updating to 'imgsz=1920'. 'train' and 'val' imgsz must be an integer, while 'predict' and 'export' imgsz may be a [h, w] list or an integer, i.e. 'yolo export imgsz=640,480' or 'yolo export imgsz=640'\n",
      "\u001b[34m\u001b[1mtrain: \u001b[0mFast image access ✅ (ping: 0.0±0.0 ms, read: 5752.5±649.9 MB/s, size: 1964.9 KB)\n"
     ]
    },
    {
     "name": "stderr",
     "output_type": "stream",
     "text": [
      "\u001b[34m\u001b[1mtrain: \u001b[0mScanning /mnt3/peter/finetune/task2_datasets/YOLO_generated/labels/train... 598 images, 0 backgrounds, 0 corrupt: 100%|██████████| 598/598 [00:05<00:00, 116.03it/s]"
     ]
    },
    {
     "name": "stdout",
     "output_type": "stream",
     "text": [
      "\u001b[34m\u001b[1mtrain: \u001b[0mNew cache created: /mnt3/peter/finetune/task2_datasets/YOLO_generated/labels/train.cache\n"
     ]
    },
    {
     "name": "stderr",
     "output_type": "stream",
     "text": [
      "\n"
     ]
    },
    {
     "name": "stdout",
     "output_type": "stream",
     "text": [
      "WARNING ⚠️ 'rect=True' is incompatible with DataLoader shuffle, setting shuffle=False\n",
      "\u001b[34m\u001b[1mval: \u001b[0mFast image access ✅ (ping: 0.0±0.0 ms, read: 2731.3±2381.0 MB/s, size: 3194.5 KB)\n"
     ]
    },
    {
     "name": "stderr",
     "output_type": "stream",
     "text": [
      "\u001b[34m\u001b[1mval: \u001b[0mScanning /mnt3/peter/finetune/task2_datasets/YOLO_generated/labels/val.cache... 50 images, 0 backgrounds, 0 corrupt: 100%|██████████| 50/50 [00:00<?, ?it/s]\n"
     ]
    },
    {
     "name": "stdout",
     "output_type": "stream",
     "text": [
      "Plotting labels to snow_domain_adaptation/v2_p2_main/labels.jpg... \n",
      "\u001b[34m\u001b[1moptimizer:\u001b[0m 'optimizer=auto' found, ignoring 'lr0=0.0001' and 'momentum=0.937' and determining best 'optimizer', 'lr0' and 'momentum' automatically... \n",
      "\u001b[34m\u001b[1moptimizer:\u001b[0m AdamW(lr=0.000833, momentum=0.9) with parameter groups 106 weight(decay=0.0), 113 weight(decay=0.0005), 112 bias(decay=0.0)\n",
      "Image sizes 1920 train, 1920 val\n",
      "Using 8 dataloader workers\n",
      "Logging results to \u001b[1msnow_domain_adaptation/v2_p2_main\u001b[0m\n",
      "Starting training for 40 epochs...\n",
      "\n",
      "      Epoch    GPU_mem   box_loss   cls_loss   dfl_loss  Instances       Size\n"
     ]
    },
    {
     "name": "stderr",
     "output_type": "stream",
     "text": [
      "       1/40      10.2G     0.2478      1.186       1.42         13       1920: 100%|██████████| 150/150 [00:24<00:00,  6.13it/s]\n",
      "                 Class     Images  Instances      Box(P          R      mAP50  mAP50-95): 100%|██████████| 7/7 [00:00<00:00, 10.16it/s]"
     ]
    },
    {
     "name": "stdout",
     "output_type": "stream",
     "text": [
      "                   all         50        493       0.89     0.0978      0.137     0.0633\n"
     ]
    },
    {
     "name": "stderr",
     "output_type": "stream",
     "text": [
      "\n"
     ]
    },
    {
     "name": "stdout",
     "output_type": "stream",
     "text": [
      "\n",
      "      Epoch    GPU_mem   box_loss   cls_loss   dfl_loss  Instances       Size\n"
     ]
    },
    {
     "name": "stderr",
     "output_type": "stream",
     "text": [
      "       2/40      10.4G     0.2565      1.161      1.459         13       1920: 100%|██████████| 150/150 [00:22<00:00,  6.52it/s]\n",
      "                 Class     Images  Instances      Box(P          R      mAP50  mAP50-95): 100%|██████████| 7/7 [00:00<00:00, 10.27it/s]"
     ]
    },
    {
     "name": "stdout",
     "output_type": "stream",
     "text": [
      "                   all         50        493      0.821      0.105       0.14      0.056\n"
     ]
    },
    {
     "name": "stderr",
     "output_type": "stream",
     "text": [
      "\n"
     ]
    },
    {
     "name": "stdout",
     "output_type": "stream",
     "text": [
      "\n",
      "      Epoch    GPU_mem   box_loss   cls_loss   dfl_loss  Instances       Size\n"
     ]
    },
    {
     "name": "stderr",
     "output_type": "stream",
     "text": [
      "       3/40      10.4G     0.2632      1.123      1.502         13       1920: 100%|██████████| 150/150 [00:22<00:00,  6.57it/s]\n",
      "                 Class     Images  Instances      Box(P          R      mAP50  mAP50-95): 100%|██████████| 7/7 [00:00<00:00,  9.56it/s]"
     ]
    },
    {
     "name": "stdout",
     "output_type": "stream",
     "text": [
      "                   all         50        493      0.751      0.094     0.0999     0.0411\n"
     ]
    },
    {
     "name": "stderr",
     "output_type": "stream",
     "text": [
      "\n"
     ]
    },
    {
     "name": "stdout",
     "output_type": "stream",
     "text": [
      "\n",
      "      Epoch    GPU_mem   box_loss   cls_loss   dfl_loss  Instances       Size\n"
     ]
    },
    {
     "name": "stderr",
     "output_type": "stream",
     "text": [
      "       4/40      10.4G     0.2675      1.102      1.519         13       1920: 100%|██████████| 150/150 [00:22<00:00,  6.57it/s]\n",
      "                 Class     Images  Instances      Box(P          R      mAP50  mAP50-95): 100%|██████████| 7/7 [00:00<00:00,  9.86it/s]"
     ]
    },
    {
     "name": "stdout",
     "output_type": "stream",
     "text": [
      "                   all         50        493      0.739     0.0986     0.0967     0.0474\n"
     ]
    },
    {
     "name": "stderr",
     "output_type": "stream",
     "text": [
      "\n"
     ]
    },
    {
     "name": "stdout",
     "output_type": "stream",
     "text": [
      "\n",
      "      Epoch    GPU_mem   box_loss   cls_loss   dfl_loss  Instances       Size\n"
     ]
    },
    {
     "name": "stderr",
     "output_type": "stream",
     "text": [
      "       5/40      10.4G     0.2678      1.078      1.525         13       1920: 100%|██████████| 150/150 [00:22<00:00,  6.57it/s]\n",
      "                 Class     Images  Instances      Box(P          R      mAP50  mAP50-95): 100%|██████████| 7/7 [00:00<00:00, 10.16it/s]"
     ]
    },
    {
     "name": "stdout",
     "output_type": "stream",
     "text": [
      "                   all         50        493       0.49      0.179      0.179     0.0746\n"
     ]
    },
    {
     "name": "stderr",
     "output_type": "stream",
     "text": [
      "\n"
     ]
    },
    {
     "name": "stdout",
     "output_type": "stream",
     "text": [
      "\n",
      "      Epoch    GPU_mem   box_loss   cls_loss   dfl_loss  Instances       Size\n"
     ]
    },
    {
     "name": "stderr",
     "output_type": "stream",
     "text": [
      "       6/40      10.3G     0.2635      1.055      1.523         13       1920: 100%|██████████| 150/150 [00:22<00:00,  6.57it/s]\n",
      "                 Class     Images  Instances      Box(P          R      mAP50  mAP50-95): 100%|██████████| 7/7 [00:00<00:00, 10.28it/s]"
     ]
    },
    {
     "name": "stdout",
     "output_type": "stream",
     "text": [
      "                   all         50        493      0.315      0.186      0.167     0.0664\n"
     ]
    },
    {
     "name": "stderr",
     "output_type": "stream",
     "text": [
      "\n"
     ]
    },
    {
     "name": "stdout",
     "output_type": "stream",
     "text": [
      "\n",
      "      Epoch    GPU_mem   box_loss   cls_loss   dfl_loss  Instances       Size\n"
     ]
    },
    {
     "name": "stderr",
     "output_type": "stream",
     "text": [
      "       7/40      10.4G     0.2565      1.021      1.485         13       1920: 100%|██████████| 150/150 [00:22<00:00,  6.61it/s]\n",
      "                 Class     Images  Instances      Box(P          R      mAP50  mAP50-95): 100%|██████████| 7/7 [00:00<00:00, 10.16it/s]"
     ]
    },
    {
     "name": "stdout",
     "output_type": "stream",
     "text": [
      "                   all         50        493      0.359      0.265      0.221     0.0886\n"
     ]
    },
    {
     "name": "stderr",
     "output_type": "stream",
     "text": [
      "\n"
     ]
    },
    {
     "name": "stdout",
     "output_type": "stream",
     "text": [
      "\n",
      "      Epoch    GPU_mem   box_loss   cls_loss   dfl_loss  Instances       Size\n"
     ]
    },
    {
     "name": "stderr",
     "output_type": "stream",
     "text": [
      "       8/40      10.4G     0.2567     0.9598      1.478         13       1920: 100%|██████████| 150/150 [00:22<00:00,  6.61it/s]\n",
      "                 Class     Images  Instances      Box(P          R      mAP50  mAP50-95): 100%|██████████| 7/7 [00:00<00:00, 10.19it/s]"
     ]
    },
    {
     "name": "stdout",
     "output_type": "stream",
     "text": [
      "                   all         50        493      0.539      0.174      0.201     0.0814\n"
     ]
    },
    {
     "name": "stderr",
     "output_type": "stream",
     "text": [
      "\n"
     ]
    },
    {
     "name": "stdout",
     "output_type": "stream",
     "text": [
      "\n",
      "      Epoch    GPU_mem   box_loss   cls_loss   dfl_loss  Instances       Size\n"
     ]
    },
    {
     "name": "stderr",
     "output_type": "stream",
     "text": [
      "       9/40      10.4G     0.2554     0.9471      1.467         13       1920: 100%|██████████| 150/150 [00:22<00:00,  6.58it/s]\n",
      "                 Class     Images  Instances      Box(P          R      mAP50  mAP50-95): 100%|██████████| 7/7 [00:00<00:00, 10.07it/s]"
     ]
    },
    {
     "name": "stdout",
     "output_type": "stream",
     "text": [
      "                   all         50        493      0.628      0.178      0.201     0.0803\n"
     ]
    },
    {
     "name": "stderr",
     "output_type": "stream",
     "text": [
      "\n"
     ]
    },
    {
     "name": "stdout",
     "output_type": "stream",
     "text": [
      "\n",
      "      Epoch    GPU_mem   box_loss   cls_loss   dfl_loss  Instances       Size\n"
     ]
    },
    {
     "name": "stderr",
     "output_type": "stream",
     "text": [
      "      10/40      10.4G      0.248     0.9065      1.443         13       1920: 100%|██████████| 150/150 [00:22<00:00,  6.64it/s]\n",
      "                 Class     Images  Instances      Box(P          R      mAP50  mAP50-95): 100%|██████████| 7/7 [00:00<00:00, 10.22it/s]"
     ]
    },
    {
     "name": "stdout",
     "output_type": "stream",
     "text": [
      "                   all         50        493      0.542       0.19      0.195     0.0831\n"
     ]
    },
    {
     "name": "stderr",
     "output_type": "stream",
     "text": [
      "\n"
     ]
    },
    {
     "name": "stdout",
     "output_type": "stream",
     "text": [
      "\n",
      "      Epoch    GPU_mem   box_loss   cls_loss   dfl_loss  Instances       Size\n"
     ]
    },
    {
     "name": "stderr",
     "output_type": "stream",
     "text": [
      "      11/40      10.4G     0.2469      0.922      1.434         13       1920: 100%|██████████| 150/150 [00:22<00:00,  6.59it/s]\n",
      "                 Class     Images  Instances      Box(P          R      mAP50  mAP50-95): 100%|██████████| 7/7 [00:00<00:00, 10.21it/s]"
     ]
    },
    {
     "name": "stdout",
     "output_type": "stream",
     "text": [
      "                   all         50        493      0.406      0.223      0.222      0.115\n"
     ]
    },
    {
     "name": "stderr",
     "output_type": "stream",
     "text": [
      "\n"
     ]
    },
    {
     "name": "stdout",
     "output_type": "stream",
     "text": [
      "\n",
      "      Epoch    GPU_mem   box_loss   cls_loss   dfl_loss  Instances       Size\n"
     ]
    },
    {
     "name": "stderr",
     "output_type": "stream",
     "text": [
      "      12/40      10.4G     0.2448     0.8765      1.431         13       1920: 100%|██████████| 150/150 [00:22<00:00,  6.60it/s]\n",
      "                 Class     Images  Instances      Box(P          R      mAP50  mAP50-95): 100%|██████████| 7/7 [00:00<00:00, 10.14it/s]"
     ]
    },
    {
     "name": "stdout",
     "output_type": "stream",
     "text": [
      "                   all         50        493       0.42      0.234      0.251      0.103\n"
     ]
    },
    {
     "name": "stderr",
     "output_type": "stream",
     "text": [
      "\n"
     ]
    },
    {
     "name": "stdout",
     "output_type": "stream",
     "text": [
      "\n",
      "      Epoch    GPU_mem   box_loss   cls_loss   dfl_loss  Instances       Size\n"
     ]
    },
    {
     "name": "stderr",
     "output_type": "stream",
     "text": [
      "      13/40      10.4G     0.2419     0.8329      1.419         13       1920: 100%|██████████| 150/150 [00:22<00:00,  6.58it/s]\n",
      "                 Class     Images  Instances      Box(P          R      mAP50  mAP50-95): 100%|██████████| 7/7 [00:00<00:00, 10.26it/s]"
     ]
    },
    {
     "name": "stdout",
     "output_type": "stream",
     "text": [
      "                   all         50        493      0.463      0.228       0.24     0.0969\n"
     ]
    },
    {
     "name": "stderr",
     "output_type": "stream",
     "text": [
      "\n"
     ]
    },
    {
     "name": "stdout",
     "output_type": "stream",
     "text": [
      "\n",
      "      Epoch    GPU_mem   box_loss   cls_loss   dfl_loss  Instances       Size\n"
     ]
    },
    {
     "name": "stderr",
     "output_type": "stream",
     "text": [
      "      14/40      10.3G     0.2424     0.8546      1.412         12       1920: 100%|██████████| 150/150 [00:22<00:00,  6.66it/s]\n",
      "                 Class     Images  Instances      Box(P          R      mAP50  mAP50-95): 100%|██████████| 7/7 [00:00<00:00, 10.23it/s]"
     ]
    },
    {
     "name": "stdout",
     "output_type": "stream",
     "text": [
      "                   all         50        493      0.243       0.23      0.215        0.1\n"
     ]
    },
    {
     "name": "stderr",
     "output_type": "stream",
     "text": [
      "\n"
     ]
    },
    {
     "name": "stdout",
     "output_type": "stream",
     "text": [
      "\n",
      "      Epoch    GPU_mem   box_loss   cls_loss   dfl_loss  Instances       Size\n"
     ]
    },
    {
     "name": "stderr",
     "output_type": "stream",
     "text": [
      "      15/40      10.4G     0.2354      0.813      1.388          9       1920: 100%|██████████| 150/150 [00:22<00:00,  6.60it/s]\n",
      "                 Class     Images  Instances      Box(P          R      mAP50  mAP50-95): 100%|██████████| 7/7 [00:00<00:00, 10.21it/s]"
     ]
    },
    {
     "name": "stdout",
     "output_type": "stream",
     "text": [
      "                   all         50        493      0.405      0.303      0.262       0.11\n"
     ]
    },
    {
     "name": "stderr",
     "output_type": "stream",
     "text": [
      "\n"
     ]
    },
    {
     "name": "stdout",
     "output_type": "stream",
     "text": [
      "\n",
      "      Epoch    GPU_mem   box_loss   cls_loss   dfl_loss  Instances       Size\n"
     ]
    },
    {
     "name": "stderr",
     "output_type": "stream",
     "text": [
      "      16/40      10.4G     0.2363     0.7951      1.389         13       1920: 100%|██████████| 150/150 [00:22<00:00,  6.59it/s]\n",
      "                 Class     Images  Instances      Box(P          R      mAP50  mAP50-95): 100%|██████████| 7/7 [00:00<00:00, 10.23it/s]"
     ]
    },
    {
     "name": "stdout",
     "output_type": "stream",
     "text": [
      "                   all         50        493      0.401      0.261      0.246     0.0979\n"
     ]
    },
    {
     "name": "stderr",
     "output_type": "stream",
     "text": [
      "\n"
     ]
    },
    {
     "name": "stdout",
     "output_type": "stream",
     "text": [
      "\n",
      "      Epoch    GPU_mem   box_loss   cls_loss   dfl_loss  Instances       Size\n"
     ]
    },
    {
     "name": "stderr",
     "output_type": "stream",
     "text": [
      "      17/40      10.4G     0.2333       0.77      1.377         13       1920: 100%|██████████| 150/150 [00:22<00:00,  6.60it/s]\n",
      "                 Class     Images  Instances      Box(P          R      mAP50  mAP50-95): 100%|██████████| 7/7 [00:00<00:00, 10.18it/s]"
     ]
    },
    {
     "name": "stdout",
     "output_type": "stream",
     "text": [
      "                   all         50        493      0.402      0.267      0.245      0.106\n"
     ]
    },
    {
     "name": "stderr",
     "output_type": "stream",
     "text": [
      "\n"
     ]
    },
    {
     "name": "stdout",
     "output_type": "stream",
     "text": [
      "\n",
      "      Epoch    GPU_mem   box_loss   cls_loss   dfl_loss  Instances       Size\n"
     ]
    },
    {
     "name": "stderr",
     "output_type": "stream",
     "text": [
      "      18/40      10.4G     0.2312     0.7513      1.374         13       1920: 100%|██████████| 150/150 [00:22<00:00,  6.58it/s]\n",
      "                 Class     Images  Instances      Box(P          R      mAP50  mAP50-95): 100%|██████████| 7/7 [00:00<00:00, 10.22it/s]"
     ]
    },
    {
     "name": "stdout",
     "output_type": "stream",
     "text": [
      "                   all         50        493      0.403       0.25      0.256      0.108\n"
     ]
    },
    {
     "name": "stderr",
     "output_type": "stream",
     "text": [
      "\n"
     ]
    },
    {
     "name": "stdout",
     "output_type": "stream",
     "text": [
      "\n",
      "      Epoch    GPU_mem   box_loss   cls_loss   dfl_loss  Instances       Size\n"
     ]
    },
    {
     "name": "stderr",
     "output_type": "stream",
     "text": [
      "      19/40      10.4G     0.2327     0.7474      1.382         13       1920: 100%|██████████| 150/150 [00:22<00:00,  6.55it/s]\n",
      "                 Class     Images  Instances      Box(P          R      mAP50  mAP50-95): 100%|██████████| 7/7 [00:00<00:00, 10.27it/s]"
     ]
    },
    {
     "name": "stdout",
     "output_type": "stream",
     "text": [
      "                   all         50        493      0.424      0.257      0.262      0.117\n"
     ]
    },
    {
     "name": "stderr",
     "output_type": "stream",
     "text": [
      "\n"
     ]
    },
    {
     "name": "stdout",
     "output_type": "stream",
     "text": [
      "\n",
      "      Epoch    GPU_mem   box_loss   cls_loss   dfl_loss  Instances       Size\n"
     ]
    },
    {
     "name": "stderr",
     "output_type": "stream",
     "text": [
      "      20/40      10.4G     0.2265     0.7274      1.364         13       1920: 100%|██████████| 150/150 [00:22<00:00,  6.55it/s]\n",
      "                 Class     Images  Instances      Box(P          R      mAP50  mAP50-95): 100%|██████████| 7/7 [00:00<00:00, 10.17it/s]"
     ]
    },
    {
     "name": "stdout",
     "output_type": "stream",
     "text": [
      "                   all         50        493      0.421      0.308       0.31      0.148\n"
     ]
    },
    {
     "name": "stderr",
     "output_type": "stream",
     "text": [
      "\n"
     ]
    },
    {
     "name": "stdout",
     "output_type": "stream",
     "text": [
      "\n",
      "      Epoch    GPU_mem   box_loss   cls_loss   dfl_loss  Instances       Size\n"
     ]
    },
    {
     "name": "stderr",
     "output_type": "stream",
     "text": [
      "      21/40      10.4G     0.2193     0.7124      1.323         13       1920: 100%|██████████| 150/150 [00:22<00:00,  6.55it/s]\n",
      "                 Class     Images  Instances      Box(P          R      mAP50  mAP50-95): 100%|██████████| 7/7 [00:00<00:00, 10.17it/s]"
     ]
    },
    {
     "name": "stdout",
     "output_type": "stream",
     "text": [
      "                   all         50        493       0.47      0.298       0.34      0.153\n"
     ]
    },
    {
     "name": "stderr",
     "output_type": "stream",
     "text": [
      "\n"
     ]
    },
    {
     "name": "stdout",
     "output_type": "stream",
     "text": [
      "\n",
      "      Epoch    GPU_mem   box_loss   cls_loss   dfl_loss  Instances       Size\n"
     ]
    },
    {
     "name": "stderr",
     "output_type": "stream",
     "text": [
      "      22/40      10.3G     0.2181      0.696      1.314         13       1920: 100%|██████████| 150/150 [00:22<00:00,  6.56it/s]\n",
      "                 Class     Images  Instances      Box(P          R      mAP50  mAP50-95): 100%|██████████| 7/7 [00:00<00:00, 10.27it/s]"
     ]
    },
    {
     "name": "stdout",
     "output_type": "stream",
     "text": [
      "                   all         50        493      0.362      0.282      0.299      0.133\n"
     ]
    },
    {
     "name": "stderr",
     "output_type": "stream",
     "text": [
      "\n"
     ]
    },
    {
     "name": "stdout",
     "output_type": "stream",
     "text": [
      "\n",
      "      Epoch    GPU_mem   box_loss   cls_loss   dfl_loss  Instances       Size\n"
     ]
    },
    {
     "name": "stderr",
     "output_type": "stream",
     "text": [
      "      23/40      10.4G     0.2132     0.6698      1.304         13       1920: 100%|██████████| 150/150 [00:22<00:00,  6.60it/s]\n",
      "                 Class     Images  Instances      Box(P          R      mAP50  mAP50-95): 100%|██████████| 7/7 [00:00<00:00, 10.21it/s]"
     ]
    },
    {
     "name": "stdout",
     "output_type": "stream",
     "text": [
      "                   all         50        493      0.315      0.312      0.294      0.136\n"
     ]
    },
    {
     "name": "stderr",
     "output_type": "stream",
     "text": [
      "\n"
     ]
    },
    {
     "name": "stdout",
     "output_type": "stream",
     "text": [
      "\n",
      "      Epoch    GPU_mem   box_loss   cls_loss   dfl_loss  Instances       Size\n"
     ]
    },
    {
     "name": "stderr",
     "output_type": "stream",
     "text": [
      "      24/40      10.4G      0.212     0.6613      1.288         13       1920: 100%|██████████| 150/150 [00:22<00:00,  6.59it/s]\n",
      "                 Class     Images  Instances      Box(P          R      mAP50  mAP50-95): 100%|██████████| 7/7 [00:00<00:00, 10.31it/s]"
     ]
    },
    {
     "name": "stdout",
     "output_type": "stream",
     "text": [
      "                   all         50        493      0.574      0.237      0.289      0.136\n"
     ]
    },
    {
     "name": "stderr",
     "output_type": "stream",
     "text": [
      "\n"
     ]
    },
    {
     "name": "stdout",
     "output_type": "stream",
     "text": [
      "\n",
      "      Epoch    GPU_mem   box_loss   cls_loss   dfl_loss  Instances       Size\n"
     ]
    },
    {
     "name": "stderr",
     "output_type": "stream",
     "text": [
      "      25/40      10.4G      0.212     0.6502      1.277         12       1920: 100%|██████████| 150/150 [00:22<00:00,  6.54it/s]\n",
      "                 Class     Images  Instances      Box(P          R      mAP50  mAP50-95): 100%|██████████| 7/7 [00:00<00:00, 10.20it/s]"
     ]
    },
    {
     "name": "stdout",
     "output_type": "stream",
     "text": [
      "                   all         50        493      0.517      0.258      0.302      0.149\n"
     ]
    },
    {
     "name": "stderr",
     "output_type": "stream",
     "text": [
      "\n"
     ]
    },
    {
     "name": "stdout",
     "output_type": "stream",
     "text": [
      "\n",
      "      Epoch    GPU_mem   box_loss   cls_loss   dfl_loss  Instances       Size\n"
     ]
    },
    {
     "name": "stderr",
     "output_type": "stream",
     "text": [
      "      26/40      10.4G     0.2094     0.6294      1.289         13       1920: 100%|██████████| 150/150 [00:22<00:00,  6.55it/s]\n",
      "                 Class     Images  Instances      Box(P          R      mAP50  mAP50-95): 100%|██████████| 7/7 [00:00<00:00, 10.23it/s]"
     ]
    },
    {
     "name": "stdout",
     "output_type": "stream",
     "text": [
      "                   all         50        493      0.488      0.248      0.284      0.141\n"
     ]
    },
    {
     "name": "stderr",
     "output_type": "stream",
     "text": [
      "\n"
     ]
    },
    {
     "name": "stdout",
     "output_type": "stream",
     "text": [
      "\n",
      "      Epoch    GPU_mem   box_loss   cls_loss   dfl_loss  Instances       Size\n"
     ]
    },
    {
     "name": "stderr",
     "output_type": "stream",
     "text": [
      "      27/40      10.4G     0.2045     0.5872      1.266         13       1920: 100%|██████████| 150/150 [00:22<00:00,  6.56it/s]\n",
      "                 Class     Images  Instances      Box(P          R      mAP50  mAP50-95): 100%|██████████| 7/7 [00:00<00:00, 10.29it/s]"
     ]
    },
    {
     "name": "stdout",
     "output_type": "stream",
     "text": [
      "                   all         50        493      0.554      0.328      0.353      0.169\n"
     ]
    },
    {
     "name": "stderr",
     "output_type": "stream",
     "text": [
      "\n"
     ]
    },
    {
     "name": "stdout",
     "output_type": "stream",
     "text": [
      "\n",
      "      Epoch    GPU_mem   box_loss   cls_loss   dfl_loss  Instances       Size\n"
     ]
    },
    {
     "name": "stderr",
     "output_type": "stream",
     "text": [
      "      28/40      10.4G     0.2057     0.5767      1.262         13       1920: 100%|██████████| 150/150 [00:22<00:00,  6.58it/s]\n",
      "                 Class     Images  Instances      Box(P          R      mAP50  mAP50-95): 100%|██████████| 7/7 [00:00<00:00, 10.29it/s]"
     ]
    },
    {
     "name": "stdout",
     "output_type": "stream",
     "text": [
      "                   all         50        493        0.6      0.263      0.344      0.173\n"
     ]
    },
    {
     "name": "stderr",
     "output_type": "stream",
     "text": [
      "\n"
     ]
    },
    {
     "name": "stdout",
     "output_type": "stream",
     "text": [
      "\n",
      "      Epoch    GPU_mem   box_loss   cls_loss   dfl_loss  Instances       Size\n"
     ]
    },
    {
     "name": "stderr",
     "output_type": "stream",
     "text": [
      "      29/40      10.4G     0.2003     0.5647      1.248         13       1920: 100%|██████████| 150/150 [00:22<00:00,  6.71it/s]\n",
      "                 Class     Images  Instances      Box(P          R      mAP50  mAP50-95): 100%|██████████| 7/7 [00:00<00:00, 10.34it/s]"
     ]
    },
    {
     "name": "stdout",
     "output_type": "stream",
     "text": [
      "                   all         50        493      0.572      0.313      0.337      0.173\n"
     ]
    },
    {
     "name": "stderr",
     "output_type": "stream",
     "text": [
      "\n"
     ]
    },
    {
     "name": "stdout",
     "output_type": "stream",
     "text": [
      "\n",
      "      Epoch    GPU_mem   box_loss   cls_loss   dfl_loss  Instances       Size\n"
     ]
    },
    {
     "name": "stderr",
     "output_type": "stream",
     "text": [
      "      30/40      10.3G     0.2024     0.5468      1.246         13       1920: 100%|██████████| 150/150 [00:22<00:00,  6.60it/s]\n",
      "                 Class     Images  Instances      Box(P          R      mAP50  mAP50-95): 100%|██████████| 7/7 [00:00<00:00, 10.40it/s]"
     ]
    },
    {
     "name": "stdout",
     "output_type": "stream",
     "text": [
      "                   all         50        493      0.592      0.291      0.355      0.173\n"
     ]
    },
    {
     "name": "stderr",
     "output_type": "stream",
     "text": [
      "\n"
     ]
    },
    {
     "name": "stdout",
     "output_type": "stream",
     "text": [
      "Closing dataloader mosaic\n",
      "\n",
      "      Epoch    GPU_mem   box_loss   cls_loss   dfl_loss  Instances       Size\n"
     ]
    },
    {
     "name": "stderr",
     "output_type": "stream",
     "text": [
      "      31/40      10.4G     0.1989     0.5434      1.238         12       1920: 100%|██████████| 150/150 [00:23<00:00,  6.47it/s]\n",
      "                 Class     Images  Instances      Box(P          R      mAP50  mAP50-95): 100%|██████████| 7/7 [00:00<00:00, 10.19it/s]"
     ]
    },
    {
     "name": "stdout",
     "output_type": "stream",
     "text": [
      "                   all         50        493       0.47      0.383      0.361      0.164\n"
     ]
    },
    {
     "name": "stderr",
     "output_type": "stream",
     "text": [
      "\n"
     ]
    },
    {
     "name": "stdout",
     "output_type": "stream",
     "text": [
      "\n",
      "      Epoch    GPU_mem   box_loss   cls_loss   dfl_loss  Instances       Size\n"
     ]
    },
    {
     "name": "stderr",
     "output_type": "stream",
     "text": [
      "      32/40      10.4G     0.1939     0.5174      1.222         13       1920: 100%|██████████| 150/150 [00:22<00:00,  6.59it/s]\n",
      "                 Class     Images  Instances      Box(P          R      mAP50  mAP50-95): 100%|██████████| 7/7 [00:00<00:00, 10.28it/s]"
     ]
    },
    {
     "name": "stdout",
     "output_type": "stream",
     "text": [
      "                   all         50        493      0.419      0.343      0.351      0.158\n"
     ]
    },
    {
     "name": "stderr",
     "output_type": "stream",
     "text": [
      "\n"
     ]
    },
    {
     "name": "stdout",
     "output_type": "stream",
     "text": [
      "\n",
      "      Epoch    GPU_mem   box_loss   cls_loss   dfl_loss  Instances       Size\n"
     ]
    },
    {
     "name": "stderr",
     "output_type": "stream",
     "text": [
      "      33/40      10.4G     0.1936      0.522      1.218         13       1920: 100%|██████████| 150/150 [00:22<00:00,  6.55it/s]\n",
      "                 Class     Images  Instances      Box(P          R      mAP50  mAP50-95): 100%|██████████| 7/7 [00:00<00:00, 10.23it/s]"
     ]
    },
    {
     "name": "stdout",
     "output_type": "stream",
     "text": [
      "                   all         50        493      0.526      0.306      0.367      0.186\n"
     ]
    },
    {
     "name": "stderr",
     "output_type": "stream",
     "text": [
      "\n"
     ]
    },
    {
     "name": "stdout",
     "output_type": "stream",
     "text": [
      "\n",
      "      Epoch    GPU_mem   box_loss   cls_loss   dfl_loss  Instances       Size\n"
     ]
    },
    {
     "name": "stderr",
     "output_type": "stream",
     "text": [
      "      34/40      10.4G     0.1936     0.5098      1.206         12       1920: 100%|██████████| 150/150 [00:22<00:00,  6.57it/s]\n",
      "                 Class     Images  Instances      Box(P          R      mAP50  mAP50-95): 100%|██████████| 7/7 [00:00<00:00, 10.32it/s]"
     ]
    },
    {
     "name": "stdout",
     "output_type": "stream",
     "text": [
      "                   all         50        493      0.507      0.334      0.357      0.169\n"
     ]
    },
    {
     "name": "stderr",
     "output_type": "stream",
     "text": [
      "\n"
     ]
    },
    {
     "name": "stdout",
     "output_type": "stream",
     "text": [
      "\n",
      "      Epoch    GPU_mem   box_loss   cls_loss   dfl_loss  Instances       Size\n"
     ]
    },
    {
     "name": "stderr",
     "output_type": "stream",
     "text": [
      "      35/40      10.4G     0.1929     0.5021      1.211          5       1920: 100%|██████████| 150/150 [00:22<00:00,  6.56it/s]\n",
      "                 Class     Images  Instances      Box(P          R      mAP50  mAP50-95): 100%|██████████| 7/7 [00:00<00:00, 10.25it/s]"
     ]
    },
    {
     "name": "stdout",
     "output_type": "stream",
     "text": [
      "                   all         50        493      0.448      0.346      0.366      0.187\n"
     ]
    },
    {
     "name": "stderr",
     "output_type": "stream",
     "text": [
      "\n"
     ]
    },
    {
     "name": "stdout",
     "output_type": "stream",
     "text": [
      "\n",
      "      Epoch    GPU_mem   box_loss   cls_loss   dfl_loss  Instances       Size\n"
     ]
    },
    {
     "name": "stderr",
     "output_type": "stream",
     "text": [
      "      36/40      10.4G     0.1924     0.5017      1.189         13       1920: 100%|██████████| 150/150 [00:22<00:00,  6.54it/s]\n",
      "                 Class     Images  Instances      Box(P          R      mAP50  mAP50-95): 100%|██████████| 7/7 [00:00<00:00, 10.28it/s]"
     ]
    },
    {
     "name": "stdout",
     "output_type": "stream",
     "text": [
      "                   all         50        493      0.495       0.34      0.377      0.191\n"
     ]
    },
    {
     "name": "stderr",
     "output_type": "stream",
     "text": [
      "\n"
     ]
    },
    {
     "name": "stdout",
     "output_type": "stream",
     "text": [
      "\u001b[34m\u001b[1mUltralytics HUB: \u001b[0mUploading checkpoint https://hub.ultralytics.com/models/v01ntoMk8RY8pO35spX5\n",
      "\n",
      "      Epoch    GPU_mem   box_loss   cls_loss   dfl_loss  Instances       Size\n"
     ]
    },
    {
     "name": "stderr",
     "output_type": "stream",
     "text": [
      "      37/40      10.4G     0.1898     0.4841        1.2         13       1920: 100%|██████████| 150/150 [00:23<00:00,  6.50it/s]\n",
      "                 Class     Images  Instances      Box(P          R      mAP50  mAP50-95): 100%|██████████| 7/7 [00:00<00:00,  9.06it/s]"
     ]
    },
    {
     "name": "stdout",
     "output_type": "stream",
     "text": [
      "                   all         50        493      0.512      0.338      0.381       0.19\n"
     ]
    },
    {
     "name": "stderr",
     "output_type": "stream",
     "text": [
      "\n"
     ]
    },
    {
     "name": "stdout",
     "output_type": "stream",
     "text": [
      "\n",
      "      Epoch    GPU_mem   box_loss   cls_loss   dfl_loss  Instances       Size\n"
     ]
    },
    {
     "name": "stderr",
     "output_type": "stream",
     "text": [
      "      38/40      10.3G      0.189     0.4897      1.197         12       1920: 100%|██████████| 150/150 [00:22<00:00,  6.58it/s]\n",
      "                 Class     Images  Instances      Box(P          R      mAP50  mAP50-95): 100%|██████████| 7/7 [00:00<00:00, 10.27it/s]"
     ]
    },
    {
     "name": "stdout",
     "output_type": "stream",
     "text": [
      "                   all         50        493      0.553       0.33      0.375      0.185\n"
     ]
    },
    {
     "name": "stderr",
     "output_type": "stream",
     "text": [
      "\n"
     ]
    },
    {
     "name": "stdout",
     "output_type": "stream",
     "text": [
      "\n",
      "      Epoch    GPU_mem   box_loss   cls_loss   dfl_loss  Instances       Size\n"
     ]
    },
    {
     "name": "stderr",
     "output_type": "stream",
     "text": [
      "      39/40      10.4G     0.1866     0.4749      1.182         13       1920: 100%|██████████| 150/150 [00:22<00:00,  6.58it/s]\n",
      "                 Class     Images  Instances      Box(P          R      mAP50  mAP50-95): 100%|██████████| 7/7 [00:00<00:00, 10.30it/s]"
     ]
    },
    {
     "name": "stdout",
     "output_type": "stream",
     "text": [
      "                   all         50        493      0.522      0.343      0.373      0.178\n"
     ]
    },
    {
     "name": "stderr",
     "output_type": "stream",
     "text": [
      "\n"
     ]
    },
    {
     "name": "stdout",
     "output_type": "stream",
     "text": [
      "\n",
      "      Epoch    GPU_mem   box_loss   cls_loss   dfl_loss  Instances       Size\n"
     ]
    },
    {
     "name": "stderr",
     "output_type": "stream",
     "text": [
      "      40/40      10.4G     0.1872     0.4743      1.185         13       1920: 100%|██████████| 150/150 [00:22<00:00,  6.58it/s]\n",
      "                 Class     Images  Instances      Box(P          R      mAP50  mAP50-95): 100%|██████████| 7/7 [00:00<00:00, 10.29it/s]"
     ]
    },
    {
     "name": "stdout",
     "output_type": "stream",
     "text": [
      "                   all         50        493      0.554      0.346      0.375      0.181\n"
     ]
    },
    {
     "name": "stderr",
     "output_type": "stream",
     "text": [
      "\n"
     ]
    },
    {
     "name": "stdout",
     "output_type": "stream",
     "text": [
      "\n",
      "40 epochs completed in 0.279 hours.\n",
      "Optimizer stripped from snow_domain_adaptation/v2_p2_main/weights/last.pt, 40.7MB\n",
      "Optimizer stripped from snow_domain_adaptation/v2_p2_main/weights/best.pt, 40.7MB\n",
      "\n",
      "Validating snow_domain_adaptation/v2_p2_main/weights/best.pt...\n",
      "Ultralytics 8.3.129 🚀 Python-3.10.16 torch-2.7.0+cu126 CUDA:0 (NVIDIA GeForce RTX 4090, 24217MiB)\n",
      "YOLO11m summary (fused): 125 layers, 20,036,200 parameters, 0 gradients, 67.7 GFLOPs\n"
     ]
    },
    {
     "name": "stderr",
     "output_type": "stream",
     "text": [
      "                 Class     Images  Instances      Box(P          R      mAP50  mAP50-95): 100%|██████████| 7/7 [00:01<00:00,  3.75it/s]\n"
     ]
    },
    {
     "name": "stdout",
     "output_type": "stream",
     "text": [
      "                   all         50        493      0.473      0.358      0.382      0.193\n",
      "                person         31        119      0.591      0.462       0.53      0.225\n",
      "                 rider         12         13      0.536      0.462      0.388      0.136\n",
      "                   car         46        297        0.8      0.599      0.673      0.398\n",
      "                 truck          5          5          0          0     0.0189    0.00985\n",
      "                   bus          3          5      0.444        0.4      0.446      0.328\n",
      "                 train         11         11      0.362      0.545      0.536      0.272\n",
      "            motorcycle         10         10      0.528        0.3      0.266      0.073\n",
      "               bicycle         18         33      0.519     0.0991      0.196      0.102\n",
      "Speed: 0.7ms preprocess, 30.2ms inference, 0.0ms loss, 1.8ms postprocess per image\n",
      "Results saved to \u001b[1msnow_domain_adaptation/v2_p2_main\u001b[0m\n",
      "\u001b[34m\u001b[1mUltralytics HUB: \u001b[0mSyncing final model...\n"
     ]
    },
    {
     "name": "stderr",
     "output_type": "stream",
     "text": [
      "100%|██████████| 38.8M/38.8M [00:06<00:00, 6.31MB/s]"
     ]
    },
    {
     "name": "stdout",
     "output_type": "stream",
     "text": [
      "\u001b[34m\u001b[1mUltralytics HUB: \u001b[0mDone ✅\n",
      "\u001b[34m\u001b[1mUltralytics HUB: \u001b[0mView model at https://hub.ultralytics.com/models/v01ntoMk8RY8pO35spX5 🚀\n"
     ]
    },
    {
     "name": "stderr",
     "output_type": "stream",
     "text": [
      "\n"
     ]
    }
   ],
   "source": [
    "v2_p1_model = YOLO(os.path.join(\"snow_domain_adaptation\", \"v2_p1_warmup\", \"weights\", \"best.pt\"))\n",
    "# Phase 2: Main fine-tune on synthetic snow + small slice of real clear images\n",
    "print(\"Starting V2 Phase 2: Main fine-tuning on mixed data...\")\n",
    "v2_p2_results = v2_p1_model.train(\n",
    "    data=weighted_data_path,\n",
    "    epochs=40,\n",
    "    imgsz=[1920, 1080],  # Using original image size to preserve details\n",
    "    batch=4,  # Reduced batch size to accommodate larger images\n",
    "    cos_lr=True,  # Cosine LR scheduler\n",
    "    lr0=0.0001,  # 0.01× pre-train LR\n",
    "    project=\"snow_domain_adaptation\",\n",
    "    name=\"v2_p2_main\",\n",
    "    device=0,\n",
    "    save=True,\n",
    "    resume=False,\n",
    "    # hub=True,  # Enable Hub logging\n",
    "    plots=True,\n",
    "    augment=True,\n",
    "    mixup=0.25,  # MixUp with 0.25 probability\n",
    "    mosaic=0.5,  # Mosaic with 0.5 probability\n",
    "    hsv_h=0.15,  # HSV hue jitter\n",
    "    hsv_s=0.7,   # HSV saturation jitter\n",
    "    hsv_v=0.4,   # HSV value jitter\n",
    "    degrees=10,  # Random rotation\n",
    "    translate=0.2,  # Random translation\n",
    "    scale=0.5,   # Random scaling\n",
    "    fliplr=0.5,  # Horizontal flip\n",
    "    perspective=0.0005,  # Perspective transform\n",
    "    # Custom hyperparameters as per the strategy\n",
    "    box=1.2,     # Box loss gain ↑ 1.0 → 1.2\n",
    "    cls=0.3,     # Cls loss gain ↓ 0.5 → 0.3\n",
    "    rect=True,  # Use rectangular training to maintain aspect ratio\n",
    ")\n"
   ]
  },
  {
   "cell_type": "code",
   "execution_count": null,
   "id": "4b62152f",
   "metadata": {},
   "outputs": [
    {
     "name": "stdout",
     "output_type": "stream",
     "text": [
      "CUDA memory freed after V2 Phase 2\n"
     ]
    }
   ],
   "source": [
    "\n",
    "# clean up the model\n",
    "v2_p1_model.model = v2_p1_model.model.cpu()  # Move model to CPU\n",
    "del v2_p1_model  # Delete the training model\n",
    "gc.collect()  # Run garbage collector\n",
    "torch.cuda.empty_cache()  # Clear CUDA cache\n",
    "print(\"CUDA memory freed after V2 Phase 2\")"
   ]
  },
  {
   "cell_type": "markdown",
   "id": "d4cea382",
   "metadata": {},
   "source": [
    "### Phase 3: Alignment at Full Resolution\n",
    "\n",
    "The final alignment phase fine-tunes on real data only (clear + real snow, no synthetics) to reduce any CycleGAN artifacts and ensure the model generalizes well to real-world data. We continue using the original resolution and maintain aspect ratio with rectangular training to maximize the model's ability to detect objects in challenging snow conditions."
   ]
  },
  {
   "cell_type": "code",
   "execution_count": 18,
   "id": "cd493d8d",
   "metadata": {},
   "outputs": [
    {
     "name": "stdout",
     "output_type": "stream",
     "text": [
      "Starting V2 Phase 3: Final alignment on real data...\n",
      "Real-only dataset YAML:\n",
      "names:\n",
      "- person\n",
      "- rider\n",
      "- car\n",
      "- truck\n",
      "- bus\n",
      "- train\n",
      "- motorcycle\n",
      "- bicycle\n",
      "nc: 8\n",
      "path: ./\n",
      "train:\n",
      "- ./task2_datasets/YOLO_original/images/train\n",
      "- ./task2_datasets/YOLO_original_snow/images/train\n",
      "val: ./task2_datasets/YOLO_generated/images/val\n",
      "\n"
     ]
    }
   ],
   "source": [
    "\n",
    "# Phase 3: Final \"alignment\" phase on real data (clear + snow, no synthetics)\n",
    "print(\"Starting V2 Phase 3: Final alignment on real data...\")\n",
    "# Create a real-only data.yaml\n",
    "# Create a real-only data.yaml with the correct structure\n",
    "real_data_yaml = {\n",
    "    \"path\": \"./\",  # Use relative path as base\n",
    "    \"train\": [  # Use a list of paths instead of a dictionary\n",
    "        os.path.join(DATASETS[\"original\"], \"images/train\"),\n",
    "        os.path.join(DATASETS[\"real_snow\"], \"images/train\")\n",
    "    ],\n",
    "    \"val\": os.path.join(DATASETS[\"generated_snow\"], \"images/val\"),\n",
    "    \"names\": data_configs[\"generated_snow\"][\"names\"],\n",
    "    \"nc\": len(data_configs[\"generated_snow\"][\"names\"])\n",
    "}\n",
    "\n",
    "# Save real-only data.yaml\n",
    "os.makedirs(\"/tmp/real_only_dataset\", exist_ok=True)\n",
    "real_data_path = os.path.join(\"/tmp/real_only_dataset\", \"data.yaml\")\n",
    "with open(real_data_path, 'w') as file:\n",
    "    yaml.dump(real_data_yaml, file)\n",
    "\n",
    "# Print YAML for verification\n",
    "print(\"Real-only dataset YAML:\")\n",
    "with open(real_data_path, 'r') as file:\n",
    "    print(file.read())\n"
   ]
  },
  {
   "cell_type": "code",
   "execution_count": 19,
   "id": "c422001f",
   "metadata": {},
   "outputs": [
    {
     "name": "stdout",
     "output_type": "stream",
     "text": [
      "New https://pypi.org/project/ultralytics/8.3.130 available 😃 Update with 'pip install -U ultralytics'\n",
      "Ultralytics 8.3.129 🚀 Python-3.10.16 torch-2.7.0+cu126 CUDA:0 (NVIDIA GeForce RTX 4090, 24217MiB)\n",
      "\u001b[34m\u001b[1mengine/trainer: \u001b[0magnostic_nms=False, amp=True, augment=True, auto_augment=randaugment, batch=4, bgr=0.0, box=7.5, cache=False, cfg=None, classes=None, close_mosaic=10, cls=0.5, conf=None, copy_paste=0.0, copy_paste_mode=flip, cos_lr=False, cutmix=0.0, data=/tmp/real_only_dataset/data.yaml, degrees=0.0, deterministic=True, device=0, dfl=1.5, dnn=False, dropout=0.0, dynamic=False, embed=None, epochs=10, erasing=0.4, exist_ok=False, fliplr=0.5, flipud=0.0, format=torchscript, fraction=1.0, freeze=None, half=False, hsv_h=0.015, hsv_s=0.7, hsv_v=0.4, imgsz=[1920, 1080], int8=False, iou=0.7, keras=False, kobj=1.0, line_width=None, lr0=0.0001, lrf=0.01, mask_ratio=4, max_det=300, mixup=0.0, mode=train, model=snow_domain_adaptation/v2_p2_main/weights/best.pt, momentum=0.937, mosaic=0.0, multi_scale=False, name=v2_p3_alignment2, nbs=64, nms=False, opset=None, optimize=False, optimizer=auto, overlap_mask=True, patience=100, perspective=0.0, plots=True, pose=12.0, pretrained=True, profile=False, project=snow_domain_adaptation, rect=False, resume=False, retina_masks=False, save=True, save_conf=False, save_crop=False, save_dir=snow_domain_adaptation/v2_p3_alignment2, save_frames=False, save_json=False, save_period=-1, save_txt=False, scale=0.5, seed=0, shear=0.0, show=False, show_boxes=True, show_conf=True, show_labels=True, simplify=True, single_cls=False, source=None, split=val, stream_buffer=False, task=detect, time=None, tracker=botsort.yaml, translate=0.1, val=True, verbose=True, vid_stride=1, visualize=False, warmup_bias_lr=0.1, warmup_epochs=3.0, warmup_momentum=0.8, weight_decay=0.0005, workers=8, workspace=None\n",
      "\n",
      "                   from  n    params  module                                       arguments                     \n",
      "  0                  -1  1      1856  ultralytics.nn.modules.conv.Conv             [3, 64, 3, 2]                 \n",
      "  1                  -1  1     73984  ultralytics.nn.modules.conv.Conv             [64, 128, 3, 2]               \n",
      "  2                  -1  1    111872  ultralytics.nn.modules.block.C3k2            [128, 256, 1, True, 0.25]     \n",
      "  3                  -1  1    590336  ultralytics.nn.modules.conv.Conv             [256, 256, 3, 2]              \n",
      "  4                  -1  1    444928  ultralytics.nn.modules.block.C3k2            [256, 512, 1, True, 0.25]     \n",
      "  5                  -1  1   2360320  ultralytics.nn.modules.conv.Conv             [512, 512, 3, 2]              \n",
      "  6                  -1  1   1380352  ultralytics.nn.modules.block.C3k2            [512, 512, 1, True]           \n",
      "  7                  -1  1   2360320  ultralytics.nn.modules.conv.Conv             [512, 512, 3, 2]              \n",
      "  8                  -1  1   1380352  ultralytics.nn.modules.block.C3k2            [512, 512, 1, True]           \n",
      "  9                  -1  1    656896  ultralytics.nn.modules.block.SPPF            [512, 512, 5]                 \n",
      " 10                  -1  1    990976  ultralytics.nn.modules.block.C2PSA           [512, 512, 1]                 \n",
      " 11                  -1  1         0  torch.nn.modules.upsampling.Upsample         [None, 2, 'nearest']          \n",
      " 12             [-1, 6]  1         0  ultralytics.nn.modules.conv.Concat           [1]                           \n",
      " 13                  -1  1   1642496  ultralytics.nn.modules.block.C3k2            [1024, 512, 1, True]          \n",
      " 14                  -1  1         0  torch.nn.modules.upsampling.Upsample         [None, 2, 'nearest']          \n",
      " 15             [-1, 4]  1         0  ultralytics.nn.modules.conv.Concat           [1]                           \n",
      " 16                  -1  1    542720  ultralytics.nn.modules.block.C3k2            [1024, 256, 1, True]          \n",
      " 17                  -1  1    590336  ultralytics.nn.modules.conv.Conv             [256, 256, 3, 2]              \n",
      " 18            [-1, 13]  1         0  ultralytics.nn.modules.conv.Concat           [1]                           \n",
      " 19                  -1  1   1511424  ultralytics.nn.modules.block.C3k2            [768, 512, 1, True]           \n",
      " 20                  -1  1   2360320  ultralytics.nn.modules.conv.Conv             [512, 512, 3, 2]              \n",
      " 21            [-1, 10]  1         0  ultralytics.nn.modules.conv.Concat           [1]                           \n",
      " 22                  -1  1   1642496  ultralytics.nn.modules.block.C3k2            [1024, 512, 1, True]          \n",
      " 23        [16, 19, 22]  1   1417192  ultralytics.nn.modules.head.Detect           [8, [256, 512, 512]]          \n",
      "YOLO11m summary: 231 layers, 20,059,176 parameters, 20,059,160 gradients, 68.2 GFLOPs\n",
      "\n",
      "Transferred 649/649 items from pretrained weights\n",
      "\u001b[34m\u001b[1mUltralytics HUB: \u001b[0mView model at https://hub.ultralytics.com/models/46fGHHs2gOwJhSJzOjGS 🚀\n",
      "Freezing layer 'model.23.dfl.conv.weight'\n",
      "\u001b[34m\u001b[1mAMP: \u001b[0mrunning Automatic Mixed Precision (AMP) checks...\n",
      "\u001b[34m\u001b[1mAMP: \u001b[0mchecks passed ✅\n",
      "WARNING ⚠️ updating to 'imgsz=1920'. 'train' and 'val' imgsz must be an integer, while 'predict' and 'export' imgsz may be a [h, w] list or an integer, i.e. 'yolo export imgsz=640,480' or 'yolo export imgsz=640'\n",
      "\u001b[34m\u001b[1mtrain: \u001b[0mFast image access ✅ (ping: 0.0±0.0 ms, read: 5944.6±892.1 MB/s, size: 1744.0 KB)\n"
     ]
    },
    {
     "name": "stderr",
     "output_type": "stream",
     "text": [
      "\u001b[34m\u001b[1mtrain: \u001b[0mScanning /mnt3/peter/finetune/task2_datasets/YOLO_original/labels/train.cache... 598 images, 0 backgrounds, 0 corrupt: 100%|██████████| 598/598 [00:00<?, ?it/s]\n"
     ]
    },
    {
     "name": "stdout",
     "output_type": "stream",
     "text": [
      "\u001b[34m\u001b[1mval: \u001b[0mFast image access ✅ (ping: 0.0±0.0 ms, read: 4562.1±3250.7 MB/s, size: 3194.5 KB)\n"
     ]
    },
    {
     "name": "stderr",
     "output_type": "stream",
     "text": [
      "\u001b[34m\u001b[1mval: \u001b[0mScanning /mnt3/peter/finetune/task2_datasets/YOLO_generated/labels/val.cache... 50 images, 0 backgrounds, 0 corrupt: 100%|██████████| 50/50 [00:00<?, ?it/s]\n"
     ]
    },
    {
     "name": "stdout",
     "output_type": "stream",
     "text": [
      "Plotting labels to snow_domain_adaptation/v2_p3_alignment2/labels.jpg... \n",
      "\u001b[34m\u001b[1moptimizer:\u001b[0m 'optimizer=auto' found, ignoring 'lr0=0.0001' and 'momentum=0.937' and determining best 'optimizer', 'lr0' and 'momentum' automatically... \n",
      "\u001b[34m\u001b[1moptimizer:\u001b[0m AdamW(lr=0.000833, momentum=0.9) with parameter groups 106 weight(decay=0.0), 113 weight(decay=0.0005), 112 bias(decay=0.0)\n",
      "Image sizes 1920 train, 1920 val\n",
      "Using 8 dataloader workers\n",
      "Logging results to \u001b[1msnow_domain_adaptation/v2_p3_alignment2\u001b[0m\n",
      "Starting training for 10 epochs...\n",
      "Closing dataloader mosaic\n",
      "\n",
      "      Epoch    GPU_mem   box_loss   cls_loss   dfl_loss  Instances       Size\n"
     ]
    },
    {
     "name": "stderr",
     "output_type": "stream",
     "text": [
      "       1/10      19.3G      1.116     0.8417      1.129          6       1920: 100%|██████████| 150/150 [00:42<00:00,  3.51it/s]\n",
      "                 Class     Images  Instances      Box(P          R      mAP50  mAP50-95): 100%|██████████| 7/7 [00:00<00:00, 10.24it/s]"
     ]
    },
    {
     "name": "stdout",
     "output_type": "stream",
     "text": [
      "                   all         50        493      0.537      0.322      0.352        0.2\n"
     ]
    },
    {
     "name": "stderr",
     "output_type": "stream",
     "text": [
      "\n"
     ]
    },
    {
     "name": "stdout",
     "output_type": "stream",
     "text": [
      "\n",
      "      Epoch    GPU_mem   box_loss   cls_loss   dfl_loss  Instances       Size\n"
     ]
    },
    {
     "name": "stderr",
     "output_type": "stream",
     "text": [
      "       2/10      19.3G      1.119     0.9061      1.135         21       1920: 100%|██████████| 150/150 [00:40<00:00,  3.67it/s]\n",
      "                 Class     Images  Instances      Box(P          R      mAP50  mAP50-95): 100%|██████████| 7/7 [00:00<00:00, 10.36it/s]"
     ]
    },
    {
     "name": "stdout",
     "output_type": "stream",
     "text": [
      "                   all         50        493      0.529      0.236      0.293      0.169\n"
     ]
    },
    {
     "name": "stderr",
     "output_type": "stream",
     "text": [
      "\n"
     ]
    },
    {
     "name": "stdout",
     "output_type": "stream",
     "text": [
      "\n",
      "      Epoch    GPU_mem   box_loss   cls_loss   dfl_loss  Instances       Size\n"
     ]
    },
    {
     "name": "stderr",
     "output_type": "stream",
     "text": [
      "       3/10      19.4G      1.088     0.9065      1.115         14       1920: 100%|██████████| 150/150 [00:40<00:00,  3.69it/s]\n",
      "                 Class     Images  Instances      Box(P          R      mAP50  mAP50-95): 100%|██████████| 7/7 [00:00<00:00, 10.20it/s]"
     ]
    },
    {
     "name": "stdout",
     "output_type": "stream",
     "text": [
      "                   all         50        493      0.489      0.303      0.317      0.164\n"
     ]
    },
    {
     "name": "stderr",
     "output_type": "stream",
     "text": [
      "\n"
     ]
    },
    {
     "name": "stdout",
     "output_type": "stream",
     "text": [
      "\n",
      "      Epoch    GPU_mem   box_loss   cls_loss   dfl_loss  Instances       Size\n"
     ]
    },
    {
     "name": "stderr",
     "output_type": "stream",
     "text": [
      "       4/10      19.3G      1.086     0.9177      1.121         16       1920: 100%|██████████| 150/150 [00:40<00:00,  3.69it/s]\n",
      "                 Class     Images  Instances      Box(P          R      mAP50  mAP50-95): 100%|██████████| 7/7 [00:00<00:00, 10.28it/s]"
     ]
    },
    {
     "name": "stdout",
     "output_type": "stream",
     "text": [
      "                   all         50        493      0.388      0.273      0.304      0.171\n"
     ]
    },
    {
     "name": "stderr",
     "output_type": "stream",
     "text": [
      "\n"
     ]
    },
    {
     "name": "stdout",
     "output_type": "stream",
     "text": [
      "\n",
      "      Epoch    GPU_mem   box_loss   cls_loss   dfl_loss  Instances       Size\n"
     ]
    },
    {
     "name": "stderr",
     "output_type": "stream",
     "text": [
      "       5/10      19.3G      1.072     0.8653      1.117         14       1920: 100%|██████████| 150/150 [00:40<00:00,  3.69it/s]\n",
      "                 Class     Images  Instances      Box(P          R      mAP50  mAP50-95): 100%|██████████| 7/7 [00:00<00:00, 10.31it/s]"
     ]
    },
    {
     "name": "stdout",
     "output_type": "stream",
     "text": [
      "                   all         50        493      0.486      0.269        0.3       0.16\n"
     ]
    },
    {
     "name": "stderr",
     "output_type": "stream",
     "text": [
      "\n"
     ]
    },
    {
     "name": "stdout",
     "output_type": "stream",
     "text": [
      "\n",
      "      Epoch    GPU_mem   box_loss   cls_loss   dfl_loss  Instances       Size\n"
     ]
    },
    {
     "name": "stderr",
     "output_type": "stream",
     "text": [
      "       6/10      19.3G      1.043     0.8373      1.105         10       1920: 100%|██████████| 150/150 [00:40<00:00,  3.69it/s]\n",
      "                 Class     Images  Instances      Box(P          R      mAP50  mAP50-95): 100%|██████████| 7/7 [00:00<00:00, 10.24it/s]"
     ]
    },
    {
     "name": "stdout",
     "output_type": "stream",
     "text": [
      "                   all         50        493      0.392      0.257      0.291      0.159\n"
     ]
    },
    {
     "name": "stderr",
     "output_type": "stream",
     "text": [
      "\n"
     ]
    },
    {
     "name": "stdout",
     "output_type": "stream",
     "text": [
      "\n",
      "      Epoch    GPU_mem   box_loss   cls_loss   dfl_loss  Instances       Size\n"
     ]
    },
    {
     "name": "stderr",
     "output_type": "stream",
     "text": [
      "       7/10      19.3G      1.019     0.7922      1.093          8       1920: 100%|██████████| 150/150 [00:40<00:00,  3.69it/s]\n",
      "                 Class     Images  Instances      Box(P          R      mAP50  mAP50-95): 100%|██████████| 7/7 [00:00<00:00, 10.15it/s]"
     ]
    },
    {
     "name": "stdout",
     "output_type": "stream",
     "text": [
      "                   all         50        493      0.643      0.297      0.347      0.185\n"
     ]
    },
    {
     "name": "stderr",
     "output_type": "stream",
     "text": [
      "\n"
     ]
    },
    {
     "name": "stdout",
     "output_type": "stream",
     "text": [
      "\n",
      "      Epoch    GPU_mem   box_loss   cls_loss   dfl_loss  Instances       Size\n"
     ]
    },
    {
     "name": "stderr",
     "output_type": "stream",
     "text": [
      "       8/10      19.2G     0.9814     0.7521      1.063         15       1920: 100%|██████████| 150/150 [00:40<00:00,  3.69it/s]\n",
      "                 Class     Images  Instances      Box(P          R      mAP50  mAP50-95): 100%|██████████| 7/7 [00:00<00:00, 10.14it/s]"
     ]
    },
    {
     "name": "stdout",
     "output_type": "stream",
     "text": [
      "                   all         50        493      0.503      0.322      0.362        0.2\n"
     ]
    },
    {
     "name": "stderr",
     "output_type": "stream",
     "text": [
      "\n"
     ]
    },
    {
     "name": "stdout",
     "output_type": "stream",
     "text": [
      "\n",
      "      Epoch    GPU_mem   box_loss   cls_loss   dfl_loss  Instances       Size\n"
     ]
    },
    {
     "name": "stderr",
     "output_type": "stream",
     "text": [
      "       9/10      19.4G       0.95     0.7127      1.053         10       1920: 100%|██████████| 150/150 [00:40<00:00,  3.69it/s]\n",
      "                 Class     Images  Instances      Box(P          R      mAP50  mAP50-95): 100%|██████████| 7/7 [00:00<00:00, 10.32it/s]"
     ]
    },
    {
     "name": "stdout",
     "output_type": "stream",
     "text": [
      "                   all         50        493      0.516      0.318      0.335      0.174\n"
     ]
    },
    {
     "name": "stderr",
     "output_type": "stream",
     "text": [
      "\n"
     ]
    },
    {
     "name": "stdout",
     "output_type": "stream",
     "text": [
      "\n",
      "      Epoch    GPU_mem   box_loss   cls_loss   dfl_loss  Instances       Size\n"
     ]
    },
    {
     "name": "stderr",
     "output_type": "stream",
     "text": [
      "      10/10      19.3G     0.9331      0.688      1.045         18       1920: 100%|██████████| 150/150 [00:40<00:00,  3.69it/s]\n",
      "                 Class     Images  Instances      Box(P          R      mAP50  mAP50-95): 100%|██████████| 7/7 [00:00<00:00, 10.26it/s]"
     ]
    },
    {
     "name": "stdout",
     "output_type": "stream",
     "text": [
      "                   all         50        493      0.611      0.318      0.368      0.195\n"
     ]
    },
    {
     "name": "stderr",
     "output_type": "stream",
     "text": [
      "\n"
     ]
    },
    {
     "name": "stdout",
     "output_type": "stream",
     "text": [
      "\n",
      "10 epochs completed in 0.120 hours.\n",
      "Optimizer stripped from snow_domain_adaptation/v2_p3_alignment2/weights/last.pt, 40.7MB\n",
      "Optimizer stripped from snow_domain_adaptation/v2_p3_alignment2/weights/best.pt, 40.7MB\n",
      "\n",
      "Validating snow_domain_adaptation/v2_p3_alignment2/weights/best.pt...\n",
      "Ultralytics 8.3.129 🚀 Python-3.10.16 torch-2.7.0+cu126 CUDA:0 (NVIDIA GeForce RTX 4090, 24217MiB)\n",
      "YOLO11m summary (fused): 125 layers, 20,036,200 parameters, 0 gradients, 67.7 GFLOPs\n"
     ]
    },
    {
     "name": "stderr",
     "output_type": "stream",
     "text": [
      "                 Class     Images  Instances      Box(P          R      mAP50  mAP50-95): 100%|██████████| 7/7 [00:01<00:00,  4.01it/s]\n"
     ]
    },
    {
     "name": "stdout",
     "output_type": "stream",
     "text": [
      "                   all         50        493      0.546       0.35      0.361      0.203\n",
      "                person         31        119      0.567      0.437      0.478      0.243\n",
      "                 rider         12         13      0.628      0.385      0.459      0.217\n",
      "                   car         46        297      0.728      0.576      0.652       0.43\n",
      "                 truck          5          5      0.095        0.2     0.0552     0.0416\n",
      "                   bus          3          5      0.233        0.4      0.321      0.261\n",
      "                 train         11         11      0.785      0.545      0.562       0.25\n",
      "            motorcycle         10         10      0.614      0.168      0.214      0.104\n",
      "               bicycle         18         33      0.718     0.0909      0.144     0.0776\n",
      "Speed: 1.0ms preprocess, 21.4ms inference, 0.0ms loss, 1.9ms postprocess per image\n",
      "Results saved to \u001b[1msnow_domain_adaptation/v2_p3_alignment2\u001b[0m\n",
      "\u001b[34m\u001b[1mUltralytics HUB: \u001b[0mSyncing final model...\n"
     ]
    },
    {
     "name": "stderr",
     "output_type": "stream",
     "text": [
      "100%|██████████| 38.8M/38.8M [00:05<00:00, 6.80MB/s]"
     ]
    },
    {
     "name": "stdout",
     "output_type": "stream",
     "text": [
      "\u001b[34m\u001b[1mUltralytics HUB: \u001b[0mDone ✅\n",
      "\u001b[34m\u001b[1mUltralytics HUB: \u001b[0mView model at https://hub.ultralytics.com/models/46fGHHs2gOwJhSJzOjGS 🚀\n"
     ]
    },
    {
     "name": "stderr",
     "output_type": "stream",
     "text": [
      "\n"
     ]
    }
   ],
   "source": [
    "# Load the model after main fine-tune phase\n",
    "v2_p2_model = YOLO(os.path.join(\"snow_domain_adaptation\", \"v2_p2_main\", \"weights\", \"best.pt\"))\n",
    "v2_p3_results = v2_p2_model.train(\n",
    "    data=real_data_path,\n",
    "    epochs=10,\n",
    "    imgsz=[1920, 1080],  # Using original image size to preserve details\n",
    "    batch=4,  # Reduced batch size to accommodate larger images\n",
    "    lr0=0.0001,  # 0.1× again\n",
    "    project=\"snow_domain_adaptation\",\n",
    "    name=\"v2_p3_alignment\",\n",
    "    device=0,\n",
    "    save=True,\n",
    "    resume=False,\n",
    "    # hub=True,  # Enable Hub logging\n",
    "    plots=True,\n",
    "    augment=True,\n",
    "    mosaic=0.0,  # Turn off Mosaic\n",
    "    mixup=0.0,   # Turn off MixUp\n",
    "    fliplr=0.5,  # Keep simple flips\n",
    "    scale=0.5,   # Keep simple scales\n",
    ")"
   ]
  },
  {
   "cell_type": "code",
   "execution_count": 20,
   "id": "709c3213",
   "metadata": {},
   "outputs": [
    {
     "name": "stdout",
     "output_type": "stream",
     "text": [
      "CUDA memory freed after V2 Phase 3\n"
     ]
    }
   ],
   "source": [
    "# clean up the model\n",
    "v2_p2_model.model = v2_p2_model.model.cpu()  # Move model to CPU\n",
    "del v2_p2_model  # Delete the training model\n",
    "gc.collect()  # Run garbage collector\n",
    "torch.cuda.empty_cache()  # Clear CUDA cache\n",
    "print(\"CUDA memory freed after V2 Phase 3\")"
   ]
  },
  {
   "cell_type": "markdown",
   "id": "0d12d78c",
   "metadata": {},
   "source": [
    "### V2 Model Evaluation\n",
    "\n",
    "After completing all three phases, we evaluate the V2 model with and without Test-Time Augmentation (TTA) to see the full impact of our advanced fine-tuning strategy."
   ]
  },
  {
   "cell_type": "code",
   "execution_count": 21,
   "id": "b59b97ad",
   "metadata": {},
   "outputs": [
    {
     "name": "stdout",
     "output_type": "stream",
     "text": [
      "Evaluating V2 fine-tuned model on snow dataset...\n",
      "WARNING ⚠️ updating to 'imgsz=1920'. 'train' and 'val' imgsz must be an integer, while 'predict' and 'export' imgsz may be a [h, w] list or an integer, i.e. 'yolo export imgsz=640,480' or 'yolo export imgsz=640'\n",
      "Ultralytics 8.3.129 🚀 Python-3.10.16 torch-2.7.0+cu126 CUDA:0 (NVIDIA GeForce RTX 4090, 24217MiB)\n",
      "YOLO11m summary (fused): 125 layers, 20,036,200 parameters, 0 gradients, 67.7 GFLOPs\n",
      "\u001b[34m\u001b[1mval: \u001b[0mFast image access ✅ (ping: 0.0±0.0 ms, read: 6815.0±1488.6 MB/s, size: 3242.8 KB)\n"
     ]
    },
    {
     "name": "stderr",
     "output_type": "stream",
     "text": [
      "\u001b[34m\u001b[1mval: \u001b[0mScanning /mnt3/peter/finetune/task2_datasets/YOLO_generated/labels/val.cache... 50 images, 0 backgrounds, 0 corrupt: 100%|██████████| 50/50 [00:00<?, ?it/s]\n",
      "                 Class     Images  Instances      Box(P          R      mAP50  mAP50-95): 100%|██████████| 4/4 [00:04<00:00,  1.06s/it]\n"
     ]
    },
    {
     "name": "stdout",
     "output_type": "stream",
     "text": [
      "                   all         50        493      0.546       0.28      0.434      0.269\n",
      "                person         31        119      0.684      0.417      0.572      0.313\n",
      "                 rider         12         13      0.696      0.385      0.552      0.301\n",
      "                   car         46        297      0.835      0.511        0.7      0.501\n",
      "                 truck          5          5          0          0          0          0\n",
      "                   bus          3          5      0.429        0.4      0.517      0.441\n",
      "                 train         11         11      0.726      0.364      0.558      0.222\n",
      "            motorcycle         10         10        0.5        0.1      0.275      0.138\n",
      "               bicycle         18         33        0.5     0.0606      0.298      0.238\n",
      "Speed: 22.4ms preprocess, 16.1ms inference, 0.0ms loss, 0.7ms postprocess per image\n",
      "Saving snow_domain_adaptation/v2_evaluation/validation/predictions.json...\n",
      "Results saved to \u001b[1msnow_domain_adaptation/v2_evaluation/validation\u001b[0m\n",
      "Evaluating V2 fine-tuned model with TTA...\n",
      "WARNING ⚠️ updating to 'imgsz=1920'. 'train' and 'val' imgsz must be an integer, while 'predict' and 'export' imgsz may be a [h, w] list or an integer, i.e. 'yolo export imgsz=640,480' or 'yolo export imgsz=640'\n",
      "Ultralytics 8.3.129 🚀 Python-3.10.16 torch-2.7.0+cu126 CUDA:0 (NVIDIA GeForce RTX 4090, 24217MiB)\n",
      "\u001b[34m\u001b[1mval: \u001b[0mFast image access ✅ (ping: 0.0±0.0 ms, read: 2788.1±1981.4 MB/s, size: 3128.5 KB)\n"
     ]
    },
    {
     "name": "stderr",
     "output_type": "stream",
     "text": [
      "\u001b[34m\u001b[1mval: \u001b[0mScanning /mnt3/peter/finetune/task2_datasets/YOLO_generated/labels/val.cache... 50 images, 0 backgrounds, 0 corrupt: 100%|██████████| 50/50 [00:00<?, ?it/s]\n",
      "                 Class     Images  Instances      Box(P          R      mAP50  mAP50-95): 100%|██████████| 4/4 [00:05<00:00,  1.27s/it]\n"
     ]
    },
    {
     "name": "stdout",
     "output_type": "stream",
     "text": [
      "                   all         50        488      0.584      0.328      0.451      0.271\n",
      "                person         31        119      0.597      0.423      0.548        0.3\n",
      "                 rider         12         13      0.708      0.375      0.496      0.269\n",
      "                   car         46        297      0.734      0.566       0.69      0.506\n",
      "                 truck          5          5     0.0972        0.2     0.0799     0.0639\n",
      "                 train         11         11      0.795      0.545      0.716      0.329\n",
      "            motorcycle         10         10        0.5        0.1      0.275      0.138\n",
      "               bicycle         18         33      0.658     0.0909       0.35      0.292\n",
      "Speed: 16.9ms preprocess, 37.2ms inference, 0.0ms loss, 0.6ms postprocess per image\n",
      "Saving snow_domain_adaptation/v2_evaluation_tta/predictions.json...\n",
      "Results saved to \u001b[1msnow_domain_adaptation/v2_evaluation_tta\u001b[0m\n",
      "\n",
      "V2 Fine-tuned Model Metrics (without TTA):\n",
      "mAP50: 0.4340\n",
      "mAP50-95: 0.2692\n",
      "Precision: 0.5462\n",
      "Recall: 0.2797\n",
      "\n",
      "V2 Fine-tuned Model Metrics (with TTA):\n",
      "mAP50: 0.4506\n",
      "mAP50-95: 0.2712\n",
      "Precision: 0.5840\n",
      "Recall: 0.3285\n"
     ]
    },
    {
     "data": {
      "image/png": "[encoded data removed]",
      "text/plain": [
       "<Figure size 1200x1000 with 2 Axes>"
      ]
     },
     "metadata": {},
     "output_type": "display_data"
    },
    {
     "name": "stdout",
     "output_type": "stream",
     "text": [
      "\n",
      "V2 Fine-tuned Model Per-Class Metrics:\n",
      "        Class      AP50        AP  Precision    Recall\n",
      "0      person  0.572208  0.312590   0.683501  0.417420\n",
      "1       rider  0.552055  0.301379   0.695541  0.384615\n",
      "2         car  0.700214  0.501147   0.835018  0.511243\n",
      "3       truck  0.000000  0.000000   0.000000  0.000000\n",
      "4         bus  0.517000  0.441200   0.428972  0.400000\n",
      "5       train  0.558200  0.222080   0.726427  0.363636\n",
      "6  motorcycle  0.275000  0.137500   0.500000  0.100000\n",
      "7     bicycle  0.297650  0.237999   0.500000  0.060606\n"
     ]
    }
   ],
   "source": [
    "# Load the final best model\n",
    "v2_best_model = YOLO(os.path.join(\"snow_domain_adaptation\", \"v2_p3_alignment\", \"weights\", \"best.pt\"))\n",
    "# Path to generated snow dataset\n",
    "snow_val_data = DATASETS[\"generated_snow\"] + \"/data.yaml\"\n",
    "# Evaluate V2 model\n",
    "print(\"Evaluating V2 fine-tuned model on snow dataset...\")\n",
    "v2_val_results = evaluate_model(\n",
    "    v2_best_model, \n",
    "    snow_val_data, \n",
    "    project_name=\"snow_domain_adaptation/v2_evaluation\"\n",
    ")\n",
    "\n",
    "# Also run evaluation with TTA enabled\n",
    "print(\"Evaluating V2 fine-tuned model with TTA...\")\n",
    "v2_tta_results = v2_best_model.val(\n",
    "    data=snow_val_data,\n",
    "    project=\"snow_domain_adaptation\",\n",
    "    name=\"v2_evaluation_tta\",\n",
    "    classes=[0, 1, 2, 3, 5, 6, 7], \n",
    "    plots=True,\n",
    "    save_json=True,\n",
    "    conf=0.25,\n",
    "    imgsz=[1920, 1080],  # Using original image size to preserve details\n",
    "    augment=True,  # Enable TTA\n",
    ")\n",
    "\n",
    "# Extract and display metrics\n",
    "v2_metrics = extract_metrics(v2_val_results)\n",
    "v2_tta_metrics = extract_metrics(v2_tta_results)\n",
    "\n",
    "print(\"\\nV2 Fine-tuned Model Metrics (without TTA):\")\n",
    "for metric, value in v2_metrics.items():\n",
    "    print(f\"{metric}: {value:.4f}\")\n",
    "\n",
    "print(\"\\nV2 Fine-tuned Model Metrics (with TTA):\")\n",
    "for metric, value in v2_tta_metrics.items():\n",
    "    print(f\"{metric}: {value:.4f}\")\n",
    "\n",
    "# Plot confusion matrix\n",
    "plot_confusion_matrix(v2_val_results, class_names, \"V2 Fine-tuned Model\")\n",
    "\n",
    "# Extract per-class metrics\n",
    "v2_class_metrics = collect_metrics_by_class(v2_val_results, class_names)\n",
    "print(\"\\nV2 Fine-tuned Model Per-Class Metrics:\")\n",
    "print(v2_class_metrics)"
   ]
  },
  {
   "cell_type": "markdown",
   "id": "0506a955",
   "metadata": {},
   "source": [
    "## 6. Comparative Analysis\n",
    "\n",
    "Now that we have evaluated all of our models, we can compare their performance to understand the impact of different fine-tuning strategies. We'll generate several visualizations to help interpret the results."
   ]
  },
  {
   "cell_type": "code",
   "execution_count": 22,
   "id": "b4b76ba3",
   "metadata": {},
   "outputs": [
    {
     "name": "stdout",
     "output_type": "stream",
     "text": [
      "Model Performance Comparison:\n",
      "      Metric  Baseline  V1 (Basic Fine-tuning)  V2 (Advanced Strategies)  \\\n",
      "0      mAP50  0.152372                0.392198                  0.434041   \n",
      "1   mAP50-95  0.104730                0.202460                  0.269237   \n",
      "2  Precision  0.221885                0.492789                  0.546182   \n",
      "3     Recall  0.077590                0.256467                  0.279690   \n",
      "\n",
      "   V2 with TTA  \n",
      "0     0.450647  \n",
      "1     0.271226  \n",
      "2     0.584048  \n",
      "3     0.328488  \n"
     ]
    },
    {
     "data": {
      "image/png": "[encoded data removed]",
      "text/plain": [
       "<Figure size 1500x1200 with 4 Axes>"
      ]
     },
     "metadata": {},
     "output_type": "display_data"
    }
   ],
   "source": [
    "# Combine all metrics into a single dataframe for comparison\n",
    "comparison_df = pd.DataFrame({\n",
    "    'Metric': list(baseline_metrics.keys()),\n",
    "    'Baseline': list(baseline_metrics.values()),\n",
    "    'V1 (Basic Fine-tuning)': list(v1_metrics.values()),\n",
    "    'V2 (Advanced Strategies)': list(v2_metrics.values()),\n",
    "    'V2 with TTA': list(v2_tta_metrics.values())\n",
    "})\n",
    "\n",
    "# Display comparison table\n",
    "print(\"Model Performance Comparison:\")\n",
    "print(comparison_df)\n",
    "\n",
    "# Create bar charts for key metrics\n",
    "metrics_to_plot = ['mAP50', 'mAP50-95', 'Precision', 'Recall']\n",
    "fig, axes = plt.subplots(2, 2, figsize=(15, 12))\n",
    "axes = axes.flatten()\n",
    "\n",
    "for i, metric in enumerate(metrics_to_plot):\n",
    "    metric_data = comparison_df[comparison_df['Metric'] == metric].iloc[0, 1:].values\n",
    "    models = comparison_df.columns[1:]\n",
    "    \n",
    "    ax = axes[i]\n",
    "    bars = ax.bar(models, metric_data, color=['blue', 'orange', 'green', 'red'])\n",
    "    ax.set_title(f'Comparison of {metric}')\n",
    "    ax.set_ylabel(metric)\n",
    "    ax.set_ylim(0, 1.0)\n",
    "    \n",
    "    # Add value labels on bars\n",
    "    for bar in bars:\n",
    "        height = bar.get_height()\n",
    "        ax.text(bar.get_x() + bar.get_width()/2., height + 0.02,\n",
    "                f'{height:.3f}', ha='center', va='bottom', fontsize=9)\n",
    "\n",
    "plt.tight_layout()\n",
    "plt.show()"
   ]
  },
  {
   "cell_type": "markdown",
   "id": "4248008c",
   "metadata": {},
   "source": [
    "### Per-class Performance Analysis\n",
    "\n",
    "Understanding performance variations across different object classes helps identify specific challenges in the snow domain adaptation task."
   ]
  },
  {
   "cell_type": "code",
   "execution_count": 23,
   "id": "79b92627",
   "metadata": {},
   "outputs": [
    {
     "name": "stdout",
     "output_type": "stream",
     "text": [
      "        Class  Baseline AP50   V1 AP50   V2 AP50  Baseline AP     V1 AP  \\\n",
      "0      person       0.578891  0.462574  0.572208     0.346427  0.246498   \n",
      "1       rider       0.000000  0.239781  0.552055     0.000000  0.071631   \n",
      "2         car       0.640082  0.611015  0.700214     0.491411  0.412179   \n",
      "3       truck       0.000000  0.000000  0.000000     0.000000  0.000000   \n",
      "4         bus       0.000000  0.600000  0.517000     0.000000  0.180000   \n",
      "5       train       0.000000  0.618440  0.558200     0.000000  0.369674   \n",
      "6  motorcycle       0.000000  0.292250  0.275000     0.000000  0.130200   \n",
      "7     bicycle       0.000000  0.313523  0.297650     0.000000  0.209501   \n",
      "\n",
      "      V2 AP  \n",
      "0  0.312590  \n",
      "1  0.301379  \n",
      "2  0.501147  \n",
      "3  0.000000  \n",
      "4  0.441200  \n",
      "5  0.222080  \n",
      "6  0.137500  \n",
      "7  0.237999  \n"
     ]
    },
    {
     "data": {
      "image/png": "[encoded data removed]",
      "text/plain": [
       "<Figure size 1400x800 with 1 Axes>"
      ]
     },
     "metadata": {},
     "output_type": "display_data"
    }
   ],
   "source": [
    "# Compare per-class performance across models\n",
    "class_metrics_comparison = pd.DataFrame()\n",
    "\n",
    "for i, class_name in enumerate(class_names):\n",
    "    class_data = {\n",
    "        'Class': class_name,\n",
    "        'Baseline AP50': baseline_class_metrics.iloc[i]['AP50'],\n",
    "        'V1 AP50': v1_class_metrics.iloc[i]['AP50'],\n",
    "        'V2 AP50': v2_class_metrics.iloc[i]['AP50'],\n",
    "        'Baseline AP': baseline_class_metrics.iloc[i]['AP'],\n",
    "        'V1 AP': v1_class_metrics.iloc[i]['AP'],\n",
    "        'V2 AP': v2_class_metrics.iloc[i]['AP']\n",
    "    }\n",
    "    class_metrics_comparison = pd.concat([class_metrics_comparison, pd.DataFrame([class_data])], ignore_index=True)\n",
    "\n",
    "print(class_metrics_comparison)\n",
    "\n",
    "# Plot per-class AP50 comparison\n",
    "plt.figure(figsize=(14, 8))\n",
    "x = np.arange(len(class_names))\n",
    "width = 0.25\n",
    "\n",
    "plt.bar(x - width, class_metrics_comparison['Baseline AP50'], width, label='Baseline')\n",
    "plt.bar(x, class_metrics_comparison['V1 AP50'], width, label='V1 Fine-tuned')\n",
    "plt.bar(x + width, class_metrics_comparison['V2 AP50'], width, label='V2 Advanced')\n",
    "\n",
    "plt.xlabel('Class')\n",
    "plt.ylabel('AP50')\n",
    "plt.title('AP50 Comparison by Class')\n",
    "plt.xticks(x, class_names, rotation=45)\n",
    "plt.legend()\n",
    "plt.tight_layout()\n",
    "plt.show()"
   ]
  },
  {
   "cell_type": "markdown",
   "id": "19d9e560",
   "metadata": {},
   "source": [
    "## 7. Conclusion and Key Findings\n",
    "\n",
    "Finally, we'll quantify the improvements achieved by our fine-tuning strategies compared to the baseline model."
   ]
  },
  {
   "cell_type": "code",
   "execution_count": 24,
   "id": "2d900cc6",
   "metadata": {},
   "outputs": [
    {
     "name": "stdout",
     "output_type": "stream",
     "text": [
      "V1 improvement over baseline: 157.40%\n",
      "V2 improvement over baseline: 184.86%\n",
      "V2 with TTA improvement over baseline: 195.75%\n"
     ]
    }
   ],
   "source": [
    "# Calculate improvement percentages\n",
    "improvement_v1 = (v1_metrics['mAP50'] - baseline_metrics['mAP50']) / baseline_metrics['mAP50'] * 100\n",
    "improvement_v2 = (v2_metrics['mAP50'] - baseline_metrics['mAP50']) / baseline_metrics['mAP50'] * 100\n",
    "improvement_v2_tta = (v2_tta_metrics['mAP50'] - baseline_metrics['mAP50']) / baseline_metrics['mAP50'] * 100\n",
    "\n",
    "print(f\"V1 improvement over baseline: {improvement_v1:.2f}%\")\n",
    "print(f\"V2 improvement over baseline: {improvement_v2:.2f}%\")\n",
    "print(f\"V2 with TTA improvement over baseline: {improvement_v2_tta:.2f}%\")"
   ]
  },
  {
   "cell_type": "markdown",
   "id": "b341425b",
   "metadata": {},
   "source": [
    "## Summary\n",
    "\n",
    "In this notebook, we've implemented and evaluated different approaches to fine-tuning YOLOv11 for snow domain adaptation:\n",
    "\n",
    "1. **Baseline**: Pre-trained YOLOv11 model tested on snow images at full resolution (1920×1080)\n",
    "2. **V1 Fine-tuning**: Basic fine-tuning on generated snow images only with standard 640px resolution\n",
    "3. **V2 Fine-tuning**: Advanced curriculum learning approach with full resolution (1920×1080) across three phases:\n",
    "   - Warm-up on clear weather images at original resolution\n",
    "   - Main fine-tuning on mixed data (synthetic snow + some clear) with aspect ratio preservation\n",
    "   - Final alignment on real data with maintained aspect ratio\n",
    "\n",
    "The curriculum learning approach (V2) with original resolution significantly outperformed both the baseline and basic fine-tuning (V1) in all key metrics. By preserving the original image size and aspect ratio, the model can better detect small objects and maintain spatial relationships that might be critical in snowy conditions where object boundaries are often obscured.\n",
    "\n",
    "Test-time augmentation provided an additional boost to the V2 model performance, particularly for the mAP50 metric. The rectangular training (`rect=True`) further enhanced the model's ability to handle the natural aspect ratio of traffic scenes.\n",
    "\n",
    "The most challenging classes appeared to be those with smaller features or finer details that could be obscured by snow, while larger and more distinctive objects maintained better detection rates. These insights can guide future efforts in domain adaptation for object detection in adverse weather conditions.\n",
    "\n",
    "The advanced fine-tuning strategy with curriculum learning at original resolution, aspect ratio preservation, extensive augmentation, and hyperparameter tuning provides the best adaptation to snow conditions while maintaining good performance on the original domain."
   ]
  }
 ],
 "metadata": {
  "jupytext": {
   "cell_metadata_filter": "-all",
   "main_language": "python",
   "notebook_metadata_filter": "-all"
  },
  "kernelspec": {
   "display_name": "cv",
   "language": "python",
   "name": "python3"
  },
  "language_info": {
   "codemirror_mode": {
    "name": "ipython",
    "version": 3
   },
   "file_extension": ".py",
   "mimetype": "text/x-python",
   "name": "python",
   "nbconvert_exporter": "python",
   "pygments_lexer": "ipython3",
   "version": "3.10.16"
  }
 },
 "nbformat": 4,
 "nbformat_minor": 5
}
